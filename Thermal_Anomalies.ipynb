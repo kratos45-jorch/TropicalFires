{
  "nbformat": 4,
  "nbformat_minor": 0,
  "metadata": {
    "colab": {
      "provenance": [],
      "mount_file_id": "1huaJiyf19ERj-sHkEyhm_T1c-Gpum2fO",
      "authorship_tag": "ABX9TyMi4E8EEbL54bxDHe84b/x7",
      "include_colab_link": true
    },
    "kernelspec": {
      "name": "python3",
      "display_name": "Python 3"
    },
    "language_info": {
      "name": "python"
    },
    "widgets": {
      "application/vnd.jupyter.widget-state+json": {
        "49975dda735a41bb956f8f33535ca9db": {
          "model_module": "@jupyter-widgets/controls",
          "model_name": "HBoxModel",
          "model_module_version": "1.5.0",
          "state": {
            "_dom_classes": [],
            "_model_module": "@jupyter-widgets/controls",
            "_model_module_version": "1.5.0",
            "_model_name": "HBoxModel",
            "_view_count": null,
            "_view_module": "@jupyter-widgets/controls",
            "_view_module_version": "1.5.0",
            "_view_name": "HBoxView",
            "box_style": "",
            "children": [
              "IPY_MODEL_5b8ddb1b5bae4939976025ecca36af46",
              "IPY_MODEL_c2304ef041614ad5a637d65730037010",
              "IPY_MODEL_b3bad3264668427f948867c6958abc04"
            ],
            "layout": "IPY_MODEL_26606272f70c401caaefe2454029f119"
          }
        },
        "5b8ddb1b5bae4939976025ecca36af46": {
          "model_module": "@jupyter-widgets/controls",
          "model_name": "HTMLModel",
          "model_module_version": "1.5.0",
          "state": {
            "_dom_classes": [],
            "_model_module": "@jupyter-widgets/controls",
            "_model_module_version": "1.5.0",
            "_model_name": "HTMLModel",
            "_view_count": null,
            "_view_module": "@jupyter-widgets/controls",
            "_view_module_version": "1.5.0",
            "_view_name": "HTMLView",
            "description": "",
            "description_tooltip": null,
            "layout": "IPY_MODEL_81e3a4dcf18b432c8fb5e9d4108bad84",
            "placeholder": "​",
            "style": "IPY_MODEL_1756245aff2446239573d09c4af22dda",
            "value": "100%"
          }
        },
        "c2304ef041614ad5a637d65730037010": {
          "model_module": "@jupyter-widgets/controls",
          "model_name": "FloatProgressModel",
          "model_module_version": "1.5.0",
          "state": {
            "_dom_classes": [],
            "_model_module": "@jupyter-widgets/controls",
            "_model_module_version": "1.5.0",
            "_model_name": "FloatProgressModel",
            "_view_count": null,
            "_view_module": "@jupyter-widgets/controls",
            "_view_module_version": "1.5.0",
            "_view_name": "ProgressView",
            "bar_style": "success",
            "description": "",
            "description_tooltip": null,
            "layout": "IPY_MODEL_f8a11e3ef75e4e33a4547f33b9aa1c49",
            "max": 35,
            "min": 0,
            "orientation": "horizontal",
            "style": "IPY_MODEL_303cfd905fae42468118896a9b123032",
            "value": 35
          }
        },
        "b3bad3264668427f948867c6958abc04": {
          "model_module": "@jupyter-widgets/controls",
          "model_name": "HTMLModel",
          "model_module_version": "1.5.0",
          "state": {
            "_dom_classes": [],
            "_model_module": "@jupyter-widgets/controls",
            "_model_module_version": "1.5.0",
            "_model_name": "HTMLModel",
            "_view_count": null,
            "_view_module": "@jupyter-widgets/controls",
            "_view_module_version": "1.5.0",
            "_view_name": "HTMLView",
            "description": "",
            "description_tooltip": null,
            "layout": "IPY_MODEL_18f1d3b3f08243348c5ba3ffbfb11738",
            "placeholder": "​",
            "style": "IPY_MODEL_e4ccc98737d44d9b818a1667d4d1a597",
            "value": " 35/35 [00:10&lt;00:00,  3.31it/s]"
          }
        },
        "26606272f70c401caaefe2454029f119": {
          "model_module": "@jupyter-widgets/base",
          "model_name": "LayoutModel",
          "model_module_version": "1.2.0",
          "state": {
            "_model_module": "@jupyter-widgets/base",
            "_model_module_version": "1.2.0",
            "_model_name": "LayoutModel",
            "_view_count": null,
            "_view_module": "@jupyter-widgets/base",
            "_view_module_version": "1.2.0",
            "_view_name": "LayoutView",
            "align_content": null,
            "align_items": null,
            "align_self": null,
            "border": null,
            "bottom": null,
            "display": null,
            "flex": null,
            "flex_flow": null,
            "grid_area": null,
            "grid_auto_columns": null,
            "grid_auto_flow": null,
            "grid_auto_rows": null,
            "grid_column": null,
            "grid_gap": null,
            "grid_row": null,
            "grid_template_areas": null,
            "grid_template_columns": null,
            "grid_template_rows": null,
            "height": null,
            "justify_content": null,
            "justify_items": null,
            "left": null,
            "margin": null,
            "max_height": null,
            "max_width": null,
            "min_height": null,
            "min_width": null,
            "object_fit": null,
            "object_position": null,
            "order": null,
            "overflow": null,
            "overflow_x": null,
            "overflow_y": null,
            "padding": null,
            "right": null,
            "top": null,
            "visibility": null,
            "width": null
          }
        },
        "81e3a4dcf18b432c8fb5e9d4108bad84": {
          "model_module": "@jupyter-widgets/base",
          "model_name": "LayoutModel",
          "model_module_version": "1.2.0",
          "state": {
            "_model_module": "@jupyter-widgets/base",
            "_model_module_version": "1.2.0",
            "_model_name": "LayoutModel",
            "_view_count": null,
            "_view_module": "@jupyter-widgets/base",
            "_view_module_version": "1.2.0",
            "_view_name": "LayoutView",
            "align_content": null,
            "align_items": null,
            "align_self": null,
            "border": null,
            "bottom": null,
            "display": null,
            "flex": null,
            "flex_flow": null,
            "grid_area": null,
            "grid_auto_columns": null,
            "grid_auto_flow": null,
            "grid_auto_rows": null,
            "grid_column": null,
            "grid_gap": null,
            "grid_row": null,
            "grid_template_areas": null,
            "grid_template_columns": null,
            "grid_template_rows": null,
            "height": null,
            "justify_content": null,
            "justify_items": null,
            "left": null,
            "margin": null,
            "max_height": null,
            "max_width": null,
            "min_height": null,
            "min_width": null,
            "object_fit": null,
            "object_position": null,
            "order": null,
            "overflow": null,
            "overflow_x": null,
            "overflow_y": null,
            "padding": null,
            "right": null,
            "top": null,
            "visibility": null,
            "width": null
          }
        },
        "1756245aff2446239573d09c4af22dda": {
          "model_module": "@jupyter-widgets/controls",
          "model_name": "DescriptionStyleModel",
          "model_module_version": "1.5.0",
          "state": {
            "_model_module": "@jupyter-widgets/controls",
            "_model_module_version": "1.5.0",
            "_model_name": "DescriptionStyleModel",
            "_view_count": null,
            "_view_module": "@jupyter-widgets/base",
            "_view_module_version": "1.2.0",
            "_view_name": "StyleView",
            "description_width": ""
          }
        },
        "f8a11e3ef75e4e33a4547f33b9aa1c49": {
          "model_module": "@jupyter-widgets/base",
          "model_name": "LayoutModel",
          "model_module_version": "1.2.0",
          "state": {
            "_model_module": "@jupyter-widgets/base",
            "_model_module_version": "1.2.0",
            "_model_name": "LayoutModel",
            "_view_count": null,
            "_view_module": "@jupyter-widgets/base",
            "_view_module_version": "1.2.0",
            "_view_name": "LayoutView",
            "align_content": null,
            "align_items": null,
            "align_self": null,
            "border": null,
            "bottom": null,
            "display": null,
            "flex": null,
            "flex_flow": null,
            "grid_area": null,
            "grid_auto_columns": null,
            "grid_auto_flow": null,
            "grid_auto_rows": null,
            "grid_column": null,
            "grid_gap": null,
            "grid_row": null,
            "grid_template_areas": null,
            "grid_template_columns": null,
            "grid_template_rows": null,
            "height": null,
            "justify_content": null,
            "justify_items": null,
            "left": null,
            "margin": null,
            "max_height": null,
            "max_width": null,
            "min_height": null,
            "min_width": null,
            "object_fit": null,
            "object_position": null,
            "order": null,
            "overflow": null,
            "overflow_x": null,
            "overflow_y": null,
            "padding": null,
            "right": null,
            "top": null,
            "visibility": null,
            "width": null
          }
        },
        "303cfd905fae42468118896a9b123032": {
          "model_module": "@jupyter-widgets/controls",
          "model_name": "ProgressStyleModel",
          "model_module_version": "1.5.0",
          "state": {
            "_model_module": "@jupyter-widgets/controls",
            "_model_module_version": "1.5.0",
            "_model_name": "ProgressStyleModel",
            "_view_count": null,
            "_view_module": "@jupyter-widgets/base",
            "_view_module_version": "1.2.0",
            "_view_name": "StyleView",
            "bar_color": null,
            "description_width": ""
          }
        },
        "18f1d3b3f08243348c5ba3ffbfb11738": {
          "model_module": "@jupyter-widgets/base",
          "model_name": "LayoutModel",
          "model_module_version": "1.2.0",
          "state": {
            "_model_module": "@jupyter-widgets/base",
            "_model_module_version": "1.2.0",
            "_model_name": "LayoutModel",
            "_view_count": null,
            "_view_module": "@jupyter-widgets/base",
            "_view_module_version": "1.2.0",
            "_view_name": "LayoutView",
            "align_content": null,
            "align_items": null,
            "align_self": null,
            "border": null,
            "bottom": null,
            "display": null,
            "flex": null,
            "flex_flow": null,
            "grid_area": null,
            "grid_auto_columns": null,
            "grid_auto_flow": null,
            "grid_auto_rows": null,
            "grid_column": null,
            "grid_gap": null,
            "grid_row": null,
            "grid_template_areas": null,
            "grid_template_columns": null,
            "grid_template_rows": null,
            "height": null,
            "justify_content": null,
            "justify_items": null,
            "left": null,
            "margin": null,
            "max_height": null,
            "max_width": null,
            "min_height": null,
            "min_width": null,
            "object_fit": null,
            "object_position": null,
            "order": null,
            "overflow": null,
            "overflow_x": null,
            "overflow_y": null,
            "padding": null,
            "right": null,
            "top": null,
            "visibility": null,
            "width": null
          }
        },
        "e4ccc98737d44d9b818a1667d4d1a597": {
          "model_module": "@jupyter-widgets/controls",
          "model_name": "DescriptionStyleModel",
          "model_module_version": "1.5.0",
          "state": {
            "_model_module": "@jupyter-widgets/controls",
            "_model_module_version": "1.5.0",
            "_model_name": "DescriptionStyleModel",
            "_view_count": null,
            "_view_module": "@jupyter-widgets/base",
            "_view_module_version": "1.2.0",
            "_view_name": "StyleView",
            "description_width": ""
          }
        },
        "829ac6eb3db84f2e89115e7886dc9ba6": {
          "model_module": "@jupyter-widgets/controls",
          "model_name": "HBoxModel",
          "model_module_version": "1.5.0",
          "state": {
            "_dom_classes": [],
            "_model_module": "@jupyter-widgets/controls",
            "_model_module_version": "1.5.0",
            "_model_name": "HBoxModel",
            "_view_count": null,
            "_view_module": "@jupyter-widgets/controls",
            "_view_module_version": "1.5.0",
            "_view_name": "HBoxView",
            "box_style": "",
            "children": [
              "IPY_MODEL_6df752da90c44a8ab8b0c3f36b7402a1",
              "IPY_MODEL_fcb726b8edff4082a71e9b91347cd4ba",
              "IPY_MODEL_0c84e2d44d634077bcd409c06012d0e8"
            ],
            "layout": "IPY_MODEL_fa6c05df4c104a138e409c913e879fd0"
          }
        },
        "6df752da90c44a8ab8b0c3f36b7402a1": {
          "model_module": "@jupyter-widgets/controls",
          "model_name": "HTMLModel",
          "model_module_version": "1.5.0",
          "state": {
            "_dom_classes": [],
            "_model_module": "@jupyter-widgets/controls",
            "_model_module_version": "1.5.0",
            "_model_name": "HTMLModel",
            "_view_count": null,
            "_view_module": "@jupyter-widgets/controls",
            "_view_module_version": "1.5.0",
            "_view_name": "HTMLView",
            "description": "",
            "description_tooltip": null,
            "layout": "IPY_MODEL_95a8da646a554ea6b305e99eb858f342",
            "placeholder": "​",
            "style": "IPY_MODEL_949a8ebd476a4e16aa8bddf5459cf25b",
            "value": "100%"
          }
        },
        "fcb726b8edff4082a71e9b91347cd4ba": {
          "model_module": "@jupyter-widgets/controls",
          "model_name": "FloatProgressModel",
          "model_module_version": "1.5.0",
          "state": {
            "_dom_classes": [],
            "_model_module": "@jupyter-widgets/controls",
            "_model_module_version": "1.5.0",
            "_model_name": "FloatProgressModel",
            "_view_count": null,
            "_view_module": "@jupyter-widgets/controls",
            "_view_module_version": "1.5.0",
            "_view_name": "ProgressView",
            "bar_style": "success",
            "description": "",
            "description_tooltip": null,
            "layout": "IPY_MODEL_dce150cef1a043f9a0f01e175f6fce0e",
            "max": 4,
            "min": 0,
            "orientation": "horizontal",
            "style": "IPY_MODEL_31930441fecb424d9b5ff182bed5472a",
            "value": 4
          }
        },
        "0c84e2d44d634077bcd409c06012d0e8": {
          "model_module": "@jupyter-widgets/controls",
          "model_name": "HTMLModel",
          "model_module_version": "1.5.0",
          "state": {
            "_dom_classes": [],
            "_model_module": "@jupyter-widgets/controls",
            "_model_module_version": "1.5.0",
            "_model_name": "HTMLModel",
            "_view_count": null,
            "_view_module": "@jupyter-widgets/controls",
            "_view_module_version": "1.5.0",
            "_view_name": "HTMLView",
            "description": "",
            "description_tooltip": null,
            "layout": "IPY_MODEL_50ea0736847a44c8a50df298ebc3faed",
            "placeholder": "​",
            "style": "IPY_MODEL_1bd14841b0dd47d5afa5122dbb9689ab",
            "value": " 4/4 [02:21&lt;00:00, 36.78s/it]"
          }
        },
        "fa6c05df4c104a138e409c913e879fd0": {
          "model_module": "@jupyter-widgets/base",
          "model_name": "LayoutModel",
          "model_module_version": "1.2.0",
          "state": {
            "_model_module": "@jupyter-widgets/base",
            "_model_module_version": "1.2.0",
            "_model_name": "LayoutModel",
            "_view_count": null,
            "_view_module": "@jupyter-widgets/base",
            "_view_module_version": "1.2.0",
            "_view_name": "LayoutView",
            "align_content": null,
            "align_items": null,
            "align_self": null,
            "border": null,
            "bottom": null,
            "display": null,
            "flex": null,
            "flex_flow": null,
            "grid_area": null,
            "grid_auto_columns": null,
            "grid_auto_flow": null,
            "grid_auto_rows": null,
            "grid_column": null,
            "grid_gap": null,
            "grid_row": null,
            "grid_template_areas": null,
            "grid_template_columns": null,
            "grid_template_rows": null,
            "height": null,
            "justify_content": null,
            "justify_items": null,
            "left": null,
            "margin": null,
            "max_height": null,
            "max_width": null,
            "min_height": null,
            "min_width": null,
            "object_fit": null,
            "object_position": null,
            "order": null,
            "overflow": null,
            "overflow_x": null,
            "overflow_y": null,
            "padding": null,
            "right": null,
            "top": null,
            "visibility": null,
            "width": null
          }
        },
        "95a8da646a554ea6b305e99eb858f342": {
          "model_module": "@jupyter-widgets/base",
          "model_name": "LayoutModel",
          "model_module_version": "1.2.0",
          "state": {
            "_model_module": "@jupyter-widgets/base",
            "_model_module_version": "1.2.0",
            "_model_name": "LayoutModel",
            "_view_count": null,
            "_view_module": "@jupyter-widgets/base",
            "_view_module_version": "1.2.0",
            "_view_name": "LayoutView",
            "align_content": null,
            "align_items": null,
            "align_self": null,
            "border": null,
            "bottom": null,
            "display": null,
            "flex": null,
            "flex_flow": null,
            "grid_area": null,
            "grid_auto_columns": null,
            "grid_auto_flow": null,
            "grid_auto_rows": null,
            "grid_column": null,
            "grid_gap": null,
            "grid_row": null,
            "grid_template_areas": null,
            "grid_template_columns": null,
            "grid_template_rows": null,
            "height": null,
            "justify_content": null,
            "justify_items": null,
            "left": null,
            "margin": null,
            "max_height": null,
            "max_width": null,
            "min_height": null,
            "min_width": null,
            "object_fit": null,
            "object_position": null,
            "order": null,
            "overflow": null,
            "overflow_x": null,
            "overflow_y": null,
            "padding": null,
            "right": null,
            "top": null,
            "visibility": null,
            "width": null
          }
        },
        "949a8ebd476a4e16aa8bddf5459cf25b": {
          "model_module": "@jupyter-widgets/controls",
          "model_name": "DescriptionStyleModel",
          "model_module_version": "1.5.0",
          "state": {
            "_model_module": "@jupyter-widgets/controls",
            "_model_module_version": "1.5.0",
            "_model_name": "DescriptionStyleModel",
            "_view_count": null,
            "_view_module": "@jupyter-widgets/base",
            "_view_module_version": "1.2.0",
            "_view_name": "StyleView",
            "description_width": ""
          }
        },
        "dce150cef1a043f9a0f01e175f6fce0e": {
          "model_module": "@jupyter-widgets/base",
          "model_name": "LayoutModel",
          "model_module_version": "1.2.0",
          "state": {
            "_model_module": "@jupyter-widgets/base",
            "_model_module_version": "1.2.0",
            "_model_name": "LayoutModel",
            "_view_count": null,
            "_view_module": "@jupyter-widgets/base",
            "_view_module_version": "1.2.0",
            "_view_name": "LayoutView",
            "align_content": null,
            "align_items": null,
            "align_self": null,
            "border": null,
            "bottom": null,
            "display": null,
            "flex": null,
            "flex_flow": null,
            "grid_area": null,
            "grid_auto_columns": null,
            "grid_auto_flow": null,
            "grid_auto_rows": null,
            "grid_column": null,
            "grid_gap": null,
            "grid_row": null,
            "grid_template_areas": null,
            "grid_template_columns": null,
            "grid_template_rows": null,
            "height": null,
            "justify_content": null,
            "justify_items": null,
            "left": null,
            "margin": null,
            "max_height": null,
            "max_width": null,
            "min_height": null,
            "min_width": null,
            "object_fit": null,
            "object_position": null,
            "order": null,
            "overflow": null,
            "overflow_x": null,
            "overflow_y": null,
            "padding": null,
            "right": null,
            "top": null,
            "visibility": null,
            "width": null
          }
        },
        "31930441fecb424d9b5ff182bed5472a": {
          "model_module": "@jupyter-widgets/controls",
          "model_name": "ProgressStyleModel",
          "model_module_version": "1.5.0",
          "state": {
            "_model_module": "@jupyter-widgets/controls",
            "_model_module_version": "1.5.0",
            "_model_name": "ProgressStyleModel",
            "_view_count": null,
            "_view_module": "@jupyter-widgets/base",
            "_view_module_version": "1.2.0",
            "_view_name": "StyleView",
            "bar_color": null,
            "description_width": ""
          }
        },
        "50ea0736847a44c8a50df298ebc3faed": {
          "model_module": "@jupyter-widgets/base",
          "model_name": "LayoutModel",
          "model_module_version": "1.2.0",
          "state": {
            "_model_module": "@jupyter-widgets/base",
            "_model_module_version": "1.2.0",
            "_model_name": "LayoutModel",
            "_view_count": null,
            "_view_module": "@jupyter-widgets/base",
            "_view_module_version": "1.2.0",
            "_view_name": "LayoutView",
            "align_content": null,
            "align_items": null,
            "align_self": null,
            "border": null,
            "bottom": null,
            "display": null,
            "flex": null,
            "flex_flow": null,
            "grid_area": null,
            "grid_auto_columns": null,
            "grid_auto_flow": null,
            "grid_auto_rows": null,
            "grid_column": null,
            "grid_gap": null,
            "grid_row": null,
            "grid_template_areas": null,
            "grid_template_columns": null,
            "grid_template_rows": null,
            "height": null,
            "justify_content": null,
            "justify_items": null,
            "left": null,
            "margin": null,
            "max_height": null,
            "max_width": null,
            "min_height": null,
            "min_width": null,
            "object_fit": null,
            "object_position": null,
            "order": null,
            "overflow": null,
            "overflow_x": null,
            "overflow_y": null,
            "padding": null,
            "right": null,
            "top": null,
            "visibility": null,
            "width": null
          }
        },
        "1bd14841b0dd47d5afa5122dbb9689ab": {
          "model_module": "@jupyter-widgets/controls",
          "model_name": "DescriptionStyleModel",
          "model_module_version": "1.5.0",
          "state": {
            "_model_module": "@jupyter-widgets/controls",
            "_model_module_version": "1.5.0",
            "_model_name": "DescriptionStyleModel",
            "_view_count": null,
            "_view_module": "@jupyter-widgets/base",
            "_view_module_version": "1.2.0",
            "_view_name": "StyleView",
            "description_width": ""
          }
        }
      }
    }
  },
  "cells": [
    {
      "cell_type": "markdown",
      "metadata": {
        "id": "view-in-github",
        "colab_type": "text"
      },
      "source": [
        "<a href=\"https://colab.research.google.com/github/kratos45-jorch/TropicalFires/blob/main/Thermal_Anomalies.ipynb\" target=\"_parent\"><img src=\"https://colab.research.google.com/assets/colab-badge.svg\" alt=\"Open In Colab\"/></a>"
      ]
    },
    {
      "cell_type": "markdown",
      "source": [
        "/**** TEMPORAL ANOMALIES FOR ANDES FIRES*******\n",
        " * PIPELINE:\n",
        " * 1. DATASET DICTIONNARIE: Upload all data sets needed for the project\n",
        " * 1a. MASK AT 2000 m asl\n",
        " * 1b. CLIP BY AREA\n",
        "      Same region as Roman-Cuesta et al (2014)\n",
        "      12°N – 20°S, 84°W–62°W\n",
        " * 2. EXTRACT VEGETATION CLASSES\n",
        " * 3. ADD MODIS FIRE\n",
        "      Get date\n",
        "      Get altitude\n",
        "      Get cover class\n",
        "      \n",
        " * 4. CALCULATE statistics -\n",
        "    4.1 Total monthtly averages and anomalies over the times period (12*20 years = 240 images)\n",
        "    4.2.- Monthly averages and anomalies  per landclass type\n",
        "        4.2.1 Need to relcassify classes\n",
        "        4.2.1 Compute over different classes\n",
        "    4.3.- Monthly averages and anomalies per country\n",
        "   */"
      ],
      "metadata": {
        "id": "hH0Wij7zpog7"
      }
    },
    {
      "cell_type": "markdown",
      "source": [
        "# **Import Libraries**"
      ],
      "metadata": {
        "id": "1gWlsEMrpLL9"
      }
    },
    {
      "cell_type": "code",
      "execution_count": null,
      "metadata": {
        "id": "3jJZOf6CCpD0",
        "colab": {
          "base_uri": "https://localhost:8080/",
          "height": 17
        },
        "outputId": "b6a2f684-9fef-4cca-9e86-18195b2b60d1"
      },
      "outputs": [
        {
          "output_type": "display_data",
          "data": {
            "text/plain": [
              "<IPython.core.display.HTML object>"
            ],
            "text/html": [
              "\n",
              "            <style>\n",
              "                .geemap-dark {\n",
              "                    --jp-widgets-color: white;\n",
              "                    --jp-widgets-label-color: white;\n",
              "                    --jp-ui-font-color1: white;\n",
              "                    --jp-layout-color2: #454545;\n",
              "                    background-color: #383838;\n",
              "                }\n",
              "\n",
              "                .geemap-dark .jupyter-button {\n",
              "                    --jp-layout-color3: #383838;\n",
              "                }\n",
              "\n",
              "                .geemap-colab {\n",
              "                    background-color: var(--colab-primary-surface-color, white);\n",
              "                }\n",
              "\n",
              "                .geemap-colab .jupyter-button {\n",
              "                    --jp-layout-color3: var(--colab-primary-surface-color, white);\n",
              "                }\n",
              "            </style>\n",
              "            "
            ]
          },
          "metadata": {}
        }
      ],
      "source": [
        "import ee\n",
        "import geemap\n",
        "from datetime import datetime\n",
        "import pandas as pd\n",
        "import numpy as np\n",
        "\n",
        "#Compte Earth Engine\n",
        "ee.Authenticate()\n",
        "ee.Initialize(project='ee-villa45ramos')\n"
      ]
    },
    {
      "cell_type": "markdown",
      "source": [
        "### **Import Dataset**"
      ],
      "metadata": {
        "id": "dXdKPgGxIteW"
      }
    },
    {
      "cell_type": "code",
      "source": [
        "datasets= {'AndesTropi':ee.FeatureCollection(\"projects/ee-villa45ramos/assets/AndesTropi2\"),\n",
        "           'dem30m': ee.Image(\"USGS/SRTMGL1_003\"),\n",
        "           #'LandcoverProba':ee.ImageCollection(\"COPERNICUS/Landcover/100m/Proba-V-C3/Global\"),\n",
        "           'WorldCoverESA':ee.ImageCollection('ESA/WorldCover/v100'),\n",
        "           'MODarea':ee.ImageCollection(\"MODIS/061/MCD64A1\"),\n",
        "           'datacountries':ee.FeatureCollection(\"FAO/GAUL_SIMPLIFIED_500m/2015/level0\"),\n",
        "           'andes':ee.Geometry.BBox( -84.0, -30.0, -62.0, 12.0).buffer(1000)\n",
        "}\n"
      ],
      "metadata": {
        "colab": {
          "base_uri": "https://localhost:8080/",
          "height": 17
        },
        "id": "mBSL6j8HD0-e",
        "outputId": "361fb9b0-1a91-4bca-baa5-6f9b3bd8eea8"
      },
      "execution_count": null,
      "outputs": [
        {
          "output_type": "display_data",
          "data": {
            "text/plain": [
              "<IPython.core.display.HTML object>"
            ],
            "text/html": [
              "\n",
              "            <style>\n",
              "                .geemap-dark {\n",
              "                    --jp-widgets-color: white;\n",
              "                    --jp-widgets-label-color: white;\n",
              "                    --jp-ui-font-color1: white;\n",
              "                    --jp-layout-color2: #454545;\n",
              "                    background-color: #383838;\n",
              "                }\n",
              "\n",
              "                .geemap-dark .jupyter-button {\n",
              "                    --jp-layout-color3: #383838;\n",
              "                }\n",
              "\n",
              "                .geemap-colab {\n",
              "                    background-color: var(--colab-primary-surface-color, white);\n",
              "                }\n",
              "\n",
              "                .geemap-colab .jupyter-button {\n",
              "                    --jp-layout-color3: var(--colab-primary-surface-color, white);\n",
              "                }\n",
              "            </style>\n",
              "            "
            ]
          },
          "metadata": {}
        }
      ]
    },
    {
      "cell_type": "markdown",
      "source": [
        "# **CODIGO CONSOLIDADO**"
      ],
      "metadata": {
        "id": "0arZFntfNfVh"
      }
    },
    {
      "cell_type": "markdown",
      "source": [
        "## *Pretraitement MCD14ML CSV Format*"
      ],
      "metadata": {
        "id": "3vig8ij5taGu"
      }
    },
    {
      "cell_type": "code",
      "source": [
        "# -*- coding: utf-8 -*-\n",
        "\"\"\"\n",
        "Created on Fry Apr 5 15:27:42 2024\n",
        "Version 1.0\n",
        "@author: jvilla\n",
        "\"\"\"\n",
        "\n",
        "import os\n",
        "from pathlib import Path\n",
        "import glob\n",
        "import pandas as pd\n",
        "import numpy as np\n",
        "import geopandas as gpd\n",
        "from shapely.geometry import Point\n",
        "from tqdm.notebook import tqdm\n",
        "\n",
        "def merge_csv(files_joined,name_sortie):\n",
        "  list_files = glob.glob(files_joined)\n",
        "  All_csv = pd.concat(map(pd.read_csv, list_files), ignore_index=True)\n",
        "  All_csv.to_csv(name_sortie, index=False, encoding='utf-8-sig')\n",
        "\n",
        "#Filtrar: Confidence: >80% (High Level Confidence) Type: 0 (presumed vegetation fire), 2 (other static land source)\n",
        "def filt_csv(fichier):\n",
        "  file_name = Path(fichier).stem\n",
        "  df = pd.read_csv(fichier)\n",
        "  fichier_fil=df[df['confidence'] >= 80]\n",
        "  fichier_fil=fichier_fil[(fichier_fil['type'] == 0) | (fichier_fil['type'] == 2)]\n",
        "  fichier_fil = fichier_fil.iloc[:, [0,1,5,6,7,9,11,12]]\n",
        "  fichier_fil[\"country\"]=file_name\n",
        "  conditionlist = [\n",
        "    (fichier_fil[\"latitude\"] >= -5),\n",
        "    (fichier_fil[\"latitude\"] >= -8) & (fichier_fil[\"latitude\"] < -5),\n",
        "    (fichier_fil[\"latitude\"] <= -8),\n",
        "  ]\n",
        "  choicelist = [\"Zone_Equatorial\", \"Transition_Zone\", \"South_Zone\"]\n",
        "  fichier_fil[\"Zone_Clima\"] = np.select(conditionlist, choicelist, default=\"Not Specified\")\n",
        "  return fichier_fil\n",
        "\n",
        "def csv_to_shp(dtf,dir_sortie):\n",
        "  dtf['coordinates'] = dtf[['longitude', 'latitude']].values.tolist()\n",
        "  dtf['coordinates'] = dtf['coordinates'].apply(Point)\n",
        "  gdtf = gpd.GeoDataFrame(dtf, geometry = 'coordinates')\n",
        "  gdtf = gdtf.set_crs('EPSG:4326')\n",
        "  return gdtf.to_file(dir_sortie)\n",
        "\n",
        "def fusdatacsv(dict_csv):\n",
        "  n=len(dict_csv)\n",
        "  for k,i in zip(dict_csv.keys(),range(1,len(dict_csv)+1)):\n",
        "    merge_csv(os.path.join(dict_csv[k][0],'modis*.csv'),dict_csv[k][1])\n",
        "    print(f\"Merge csv Terminée étape {i}/7\")\n",
        "    csv_to_shp(filt_csv(dict_csv[k][1]),dict_csv[k][2][:-3]+'shp')\n",
        "    print(f\"CSV to SHP filt Terminée {i}/7\")\n",
        "\n",
        "def mergShape(files_shapes,dir_Shpf):\n",
        "  list_shapes = glob.glob(os.path.join(files_shapes,'*.shp'))\n",
        "  GDF_list= list()\n",
        "  GDF_list = [gpd.read_file(list_shapes[i]) for i in tqdm(range(len(list_shapes)))]\n",
        "  AndesTropi = gpd.GeoDataFrame(pd.concat(GDF_list,ignore_index=True), crs=GDF_list[0].crs)\n",
        "  return AndesTropi.to_file(dir_Shpf)"
      ],
      "metadata": {
        "colab": {
          "base_uri": "https://localhost:8080/",
          "height": 17
        },
        "id": "UrIauD_Ik4To",
        "outputId": "8994ed31-f18c-47cf-b52a-638cc0fae54e"
      },
      "execution_count": null,
      "outputs": [
        {
          "output_type": "display_data",
          "data": {
            "text/plain": [
              "<IPython.core.display.HTML object>"
            ],
            "text/html": [
              "\n",
              "            <style>\n",
              "                .geemap-dark {\n",
              "                    --jp-widgets-color: white;\n",
              "                    --jp-widgets-label-color: white;\n",
              "                    --jp-ui-font-color1: white;\n",
              "                    --jp-layout-color2: #454545;\n",
              "                    background-color: #383838;\n",
              "                }\n",
              "\n",
              "                .geemap-dark .jupyter-button {\n",
              "                    --jp-layout-color3: #383838;\n",
              "                }\n",
              "\n",
              "                .geemap-colab {\n",
              "                    background-color: var(--colab-primary-surface-color, white);\n",
              "                }\n",
              "\n",
              "                .geemap-colab .jupyter-button {\n",
              "                    --jp-layout-color3: var(--colab-primary-surface-color, white);\n",
              "                }\n",
              "            </style>\n",
              "            "
            ]
          },
          "metadata": {}
        }
      ]
    },
    {
      "cell_type": "code",
      "source": [
        "dir_1='/content/drive/MyDrive/PFE_CIRAD_AMAP/'\n",
        "dir_2='/content/drive/MyDrive/PFE_CIRAD_AMAP/Data_pays/'\n",
        "dir_3='/content/drive/MyDrive/PFE_CIRAD_AMAP/shape_pays/'\n",
        "dir_SHPf='/content/drive/MyDrive/PFE_CIRAD_AMAP/shape_pays/AndesTropiv3.shp'\n",
        "pays=[\"Argentina\",\"Bolivia\",\"Chile\",\"Colombia\",\"Ecuador\",\"Peru\",\"Venezuela\"]\n",
        "datacsv= {f\"csv{i}\": [f'{dir_1}{pays[i]}', f'{dir_2}{pays[i]}.csv',f'{dir_3}{pays[i]}.shp'] for i in range(len(pays))}"
      ],
      "metadata": {
        "colab": {
          "base_uri": "https://localhost:8080/",
          "height": 17
        },
        "id": "zqfZzvxIm3_q",
        "outputId": "28a80a9d-00de-43b1-cc54-54d4a0b89e80"
      },
      "execution_count": null,
      "outputs": [
        {
          "output_type": "display_data",
          "data": {
            "text/plain": [
              "<IPython.core.display.HTML object>"
            ],
            "text/html": [
              "\n",
              "            <style>\n",
              "                .geemap-dark {\n",
              "                    --jp-widgets-color: white;\n",
              "                    --jp-widgets-label-color: white;\n",
              "                    --jp-ui-font-color1: white;\n",
              "                    --jp-layout-color2: #454545;\n",
              "                    background-color: #383838;\n",
              "                }\n",
              "\n",
              "                .geemap-dark .jupyter-button {\n",
              "                    --jp-layout-color3: #383838;\n",
              "                }\n",
              "\n",
              "                .geemap-colab {\n",
              "                    background-color: var(--colab-primary-surface-color, white);\n",
              "                }\n",
              "\n",
              "                .geemap-colab .jupyter-button {\n",
              "                    --jp-layout-color3: var(--colab-primary-surface-color, white);\n",
              "                }\n",
              "            </style>\n",
              "            "
            ]
          },
          "metadata": {}
        }
      ]
    },
    {
      "cell_type": "code",
      "source": [
        "fusdatacsv(datacsv)\n",
        "mergShape(dir_3,dir_SHPf)\n",
        "print(\"Processus Pretraitement MCD14ML CSV Format Terminée\")"
      ],
      "metadata": {
        "id": "2yUMXWPkMXz_"
      },
      "execution_count": null,
      "outputs": []
    },
    {
      "cell_type": "markdown",
      "source": [
        "👾***CHARGER SHAPEFILE LIKE A DATASET IN GEE***\n",
        "\n",
        "> Ajouter une citation\n",
        "\n",
        "\n",
        "\n"
      ],
      "metadata": {
        "id": "FAshl7CQNEH3"
      }
    },
    {
      "cell_type": "markdown",
      "source": [
        "## *Pretraitement MCD14ML in GEE*"
      ],
      "metadata": {
        "id": "uZtyS5m8tjHf"
      }
    },
    {
      "cell_type": "code",
      "source": [
        "datasets= {'MCD14ML':ee.FeatureCollection(\"projects/ee-villa45ramos/assets/AndesTropiv3\"),\n",
        "           'dem30m': ee.Image(\"USGS/SRTMGL1_003\"),\n",
        "           'WorldCoverESA':ee.ImageCollection('ESA/WorldCover/v100'),\n",
        "           'andes':ee.Geometry.BBox( -84.0, -30.0, -62.0, 12.0).buffer(1000)}\n",
        "\n",
        "class AnomaliesThermiques:\n",
        "  def __init__(self,**datasets):\n",
        "    self.AOI = datasets['andes']\n",
        "    self.dem = datasets['dem30m']\n",
        "    self.cover = datasets['WorldCoverESA']\n",
        "    self.mcd14ml = datasets['MCD14ML']\n",
        "\n",
        "  def worldcover(self):\n",
        "    def clipStudyArea(img):\n",
        "      return img.clip(self.AOI)\n",
        "    return self.cover.filterBounds(self.AOI).map(clipStudyArea).mosaic()\n",
        "\n",
        "  def Extract_Fire_Activites(self):\n",
        "    def datechange(fc):\n",
        "      return fc.set('ddmmyy', ee.Date(fc.get('acq_date')).format('ddMMyy'))\n",
        "    def coverelev(feat):\n",
        "      geom = feat.geometry()\n",
        "      wcover = self.worldcover().reduceRegion(ee.Reducer.mode(), feat.geometry(), 1000).get('Map')#mode car on cherche la couverture plus present dans le buffer de 1000m (resolution MODIS)\n",
        "      elev30 = self.dem.clip(self.AOI).reduceRegion(ee.Reducer.median(), feat.geometry(), 1000).get('elevation')#mean car on cherche l'elevation moyenne dans le buffer de 1000m (resolution MODIS)\n",
        "      return ee.Feature(geom).copyProperties(feat).set('wc', wcover).set('elev30',elev30)\n",
        "    return self.mcd14ml.filterBounds(self.worldcover().geometry()).map(datechange).map(coverelev, True).filterMetadata('elev30', \"greater_than\", 2000)\n",
        "\n",
        "MODWorldCoverv = AnomaliesThermiques(**datasets).Extract_Fire_Activites()\n",
        "print(\"Processus FireActivity terminée\")"
      ],
      "metadata": {
        "id": "pQ8E1I3AG74w",
        "colab": {
          "base_uri": "https://localhost:8080/",
          "height": 17
        },
        "outputId": "5c5e2fdb-a843-4954-f248-1028dbe8c20d"
      },
      "execution_count": null,
      "outputs": [
        {
          "output_type": "display_data",
          "data": {
            "text/plain": [
              "<IPython.core.display.HTML object>"
            ],
            "text/html": [
              "\n",
              "            <style>\n",
              "                .geemap-dark {\n",
              "                    --jp-widgets-color: white;\n",
              "                    --jp-widgets-label-color: white;\n",
              "                    --jp-ui-font-color1: white;\n",
              "                    --jp-layout-color2: #454545;\n",
              "                    background-color: #383838;\n",
              "                }\n",
              "\n",
              "                .geemap-dark .jupyter-button {\n",
              "                    --jp-layout-color3: #383838;\n",
              "                }\n",
              "\n",
              "                .geemap-colab {\n",
              "                    background-color: var(--colab-primary-surface-color, white);\n",
              "                }\n",
              "\n",
              "                .geemap-colab .jupyter-button {\n",
              "                    --jp-layout-color3: var(--colab-primary-surface-color, white);\n",
              "                }\n",
              "            </style>\n",
              "            "
            ]
          },
          "metadata": {}
        }
      ]
    },
    {
      "cell_type": "code",
      "source": [
        "task = ee.batch.Export.table.toDrive(\n",
        "    collection=MODWorldCoverv,\n",
        "    description='MODWorldCoverv5',\n",
        "    folder='/content/drive/MyDrive/PFE_CIRAD_AMAP',\n",
        "    fileFormat='CSV')\n",
        "\n",
        "task.start()\n",
        "\n",
        "print(\"Processus Pretraitement MCD14ML in GEE terminée\")"
      ],
      "metadata": {
        "colab": {
          "base_uri": "https://localhost:8080/",
          "height": 34
        },
        "id": "sK-TioLAXDV4",
        "outputId": "c5150d35-55d7-4c5f-96a3-08e1571844f8"
      },
      "execution_count": null,
      "outputs": [
        {
          "output_type": "display_data",
          "data": {
            "text/plain": [
              "<IPython.core.display.HTML object>"
            ],
            "text/html": [
              "\n",
              "            <style>\n",
              "                .geemap-dark {\n",
              "                    --jp-widgets-color: white;\n",
              "                    --jp-widgets-label-color: white;\n",
              "                    --jp-ui-font-color1: white;\n",
              "                    --jp-layout-color2: #454545;\n",
              "                    background-color: #383838;\n",
              "                }\n",
              "\n",
              "                .geemap-dark .jupyter-button {\n",
              "                    --jp-layout-color3: #383838;\n",
              "                }\n",
              "\n",
              "                .geemap-colab {\n",
              "                    background-color: var(--colab-primary-surface-color, white);\n",
              "                }\n",
              "\n",
              "                .geemap-colab .jupyter-button {\n",
              "                    --jp-layout-color3: var(--colab-primary-surface-color, white);\n",
              "                }\n",
              "            </style>\n",
              "            "
            ]
          },
          "metadata": {}
        },
        {
          "output_type": "stream",
          "name": "stdout",
          "text": [
            "Processus Pretraitement MCD14ML in GEE terminée\n"
          ]
        }
      ]
    },
    {
      "cell_type": "markdown",
      "source": [
        "## *Extraction surfaces WordlCover in GEE*"
      ],
      "metadata": {
        "id": "zSb4AkvENuji"
      }
    },
    {
      "cell_type": "code",
      "source": [
        "# -*- coding: utf-8 -*-\n",
        "\"\"\"\n",
        "Created on Wed Apr 10 15:56:33 2024\n",
        "Version 3.1\n",
        "@author: jvilla\n",
        "\"\"\"\n",
        "import ee\n",
        "import geemap\n",
        "from tqdm.notebook import tqdm\n",
        "\n",
        "#Compte Earth Engine\n",
        "ee.Authenticate()\n",
        "ee.Initialize(project='ee-villa45ramos')\n",
        "\n",
        "class AreaTotalCover:\n",
        "  def __init__(self,codesoil,AOI,**datasets):\n",
        "    self.countries = datasets['countries']\n",
        "    self.cover = datasets['WorldCoverESA']\n",
        "    self.dem = datasets['dem30m']\n",
        "    self.codesoil=codesoil\n",
        "    self.AOI = AOI\n",
        "\n",
        "  def country(self):\n",
        "    countries = ee.List([195,51,12,33,73,57,263]); #Peru, Chile, Argentina,Bolivia, Ecuador, Colombia, Venezuela\n",
        "    countriesshp = self.countries.filter(ee.Filter.inList('ADM0_CODE',countries))\n",
        "    filterc = ee.Filter.inList('ADM0_CODE',countries)\n",
        "    countriesshp = self.countries.filter(filterc)\n",
        "    def remove_non_polygons(geometry):\n",
        "      return ee.Algorithms.If(ee.Algorithms.IsEqual(ee.Geometry(geometry).type()\n",
        "                            , ee.String('Polygon'))\n",
        "                            , ee.Feature(ee.Geometry(geometry)), None)\n",
        "    def clean_polygon_feature(feature):\n",
        "      geometries = feature.geometry().geometries();\n",
        "      geometries_cleaned = ee.FeatureCollection(geometries.map(remove_non_polygons)).union().first();\n",
        "      return ee.Feature(feature).setGeometry(geometries_cleaned.geometry())\n",
        "    return countriesshp.map(clean_polygon_feature)\n",
        "\n",
        "  def worldcover(self):\n",
        "    def clipStudyArea(img):\n",
        "      return img.clip(AOI)\n",
        "    return self.cover.filterBounds(AOI).map(clipStudyArea).mosaic()\n",
        "\n",
        "  def mask_soil(self):\n",
        "    dem2 = self.dem.clip(AOI)\n",
        "    elev = dem2.gte(2000)\n",
        "    soil = self.worldcover().updateMask(elev)\n",
        "    soilCover  = ee.Image(1).updateMask(soil.select('Map').eq(self.codesoil))#Grasland #Change of mask to updateMask\n",
        "    area_pxa_soilCover_countries = soilCover.multiply(ee.Image.pixelArea()).reduceRegions(\n",
        "                                                              collection = self.country(),\n",
        "                                                              reducer = ee.Reducer.sum(),\n",
        "                                                              scale = 10)\n",
        "    def getArea(feature):\n",
        "      area = ee.Number(feature.get('sum')).divide(1e6)\n",
        "      return feature.set('area', area)\n",
        "    return area_pxa_soilCover_countries.map(getArea).select('area','ADM0_NAME')\n",
        "\n",
        "print(\"Processus FireActivity terminée\")"
      ],
      "metadata": {
        "colab": {
          "base_uri": "https://localhost:8080/",
          "height": 34
        },
        "id": "0fmFZ-XFGVAk",
        "outputId": "f6a8883b-5e07-42f9-cc8c-b2a76a82f5fd"
      },
      "execution_count": null,
      "outputs": [
        {
          "output_type": "display_data",
          "data": {
            "text/plain": [
              "<IPython.core.display.HTML object>"
            ],
            "text/html": [
              "\n",
              "            <style>\n",
              "                .geemap-dark {\n",
              "                    --jp-widgets-color: white;\n",
              "                    --jp-widgets-label-color: white;\n",
              "                    --jp-ui-font-color1: white;\n",
              "                    --jp-layout-color2: #454545;\n",
              "                    background-color: #383838;\n",
              "                }\n",
              "\n",
              "                .geemap-dark .jupyter-button {\n",
              "                    --jp-layout-color3: #383838;\n",
              "                }\n",
              "\n",
              "                .geemap-colab {\n",
              "                    background-color: var(--colab-primary-surface-color, white);\n",
              "                }\n",
              "\n",
              "                .geemap-colab .jupyter-button {\n",
              "                    --jp-layout-color3: var(--colab-primary-surface-color, white);\n",
              "                }\n",
              "            </style>\n",
              "            "
            ]
          },
          "metadata": {}
        },
        {
          "output_type": "stream",
          "name": "stdout",
          "text": [
            "Processus FireActivity terminée\n"
          ]
        }
      ]
    },
    {
      "cell_type": "code",
      "source": [
        "datasets= {'dem30m': ee.Image(\"USGS/SRTMGL1_003\"),\n",
        "           'WorldCoverESA':ee.ImageCollection('ESA/WorldCover/v100'),\n",
        "           'countries':ee.FeatureCollection(\"FAO/GAUL_SIMPLIFIED_500m/2015/level0\")}\n",
        "\n",
        "codesoil=40 #Changer code soil-> 10:TreeCover, 20:Shrubland, 30: Grassland, 40 Cropland"
      ],
      "metadata": {
        "id": "F8fxRbiMWPTf",
        "colab": {
          "base_uri": "https://localhost:8080/",
          "height": 17
        },
        "outputId": "0cff682f-42fc-413c-8d98-d0c34a2b4e00"
      },
      "execution_count": null,
      "outputs": [
        {
          "output_type": "display_data",
          "data": {
            "text/plain": [
              "<IPython.core.display.HTML object>"
            ],
            "text/html": [
              "\n",
              "            <style>\n",
              "                .geemap-dark {\n",
              "                    --jp-widgets-color: white;\n",
              "                    --jp-widgets-label-color: white;\n",
              "                    --jp-ui-font-color1: white;\n",
              "                    --jp-layout-color2: #454545;\n",
              "                    background-color: #383838;\n",
              "                }\n",
              "\n",
              "                .geemap-dark .jupyter-button {\n",
              "                    --jp-layout-color3: #383838;\n",
              "                }\n",
              "\n",
              "                .geemap-colab {\n",
              "                    background-color: var(--colab-primary-surface-color, white);\n",
              "                }\n",
              "\n",
              "                .geemap-colab .jupyter-button {\n",
              "                    --jp-layout-color3: var(--colab-primary-surface-color, white);\n",
              "                }\n",
              "            </style>\n",
              "            "
            ]
          },
          "metadata": {}
        }
      ]
    },
    {
      "cell_type": "code",
      "source": [
        "grid = geemap.fishnet(ee.Geometry.BBox( -84.0, -30.0, -62.0, 12.0).buffer(1000), h_interval=4.5, v_interval=6.1, delta=1)\n",
        "gridSize=grid.size().getInfo();\n",
        "gridList=grid.toList(gridSize);\n",
        "\n",
        "for i in tqdm(range(gridSize)):\n",
        "  AOI = ee.Feature(gridList.get(i)).geometry()\n",
        "  MOD_soil_Area = AreaTotalCover(codesoil,AOI,**datasets).mask_soil()\n",
        "  task = ee.batch.Export.table.toDrive(\n",
        "    collection=MOD_soil_Area,\n",
        "    description=f'Cropland_Area_part{i}', #Changer name soil-> 10:TreeCover, 20:Shrubland, 30: Grassland, 40 Cropland\n",
        "    folder='Inter_data_ThermalAnomalies',\n",
        "    fileFormat='CSV')\n",
        "  task.start()\n",
        "  print(f\"Execution part: {i}\")\n",
        "  #print(gridCell.getInfo())"
      ],
      "metadata": {
        "colab": {
          "base_uri": "https://localhost:8080/",
          "height": 657,
          "referenced_widgets": [
            "49975dda735a41bb956f8f33535ca9db",
            "5b8ddb1b5bae4939976025ecca36af46",
            "c2304ef041614ad5a637d65730037010",
            "b3bad3264668427f948867c6958abc04",
            "26606272f70c401caaefe2454029f119",
            "81e3a4dcf18b432c8fb5e9d4108bad84",
            "1756245aff2446239573d09c4af22dda",
            "f8a11e3ef75e4e33a4547f33b9aa1c49",
            "303cfd905fae42468118896a9b123032",
            "18f1d3b3f08243348c5ba3ffbfb11738",
            "e4ccc98737d44d9b818a1667d4d1a597"
          ]
        },
        "id": "tx_P1u_iT5lw",
        "outputId": "48bdd4a9-2b55-4da7-f14d-2ff1f60a6d8b"
      },
      "execution_count": null,
      "outputs": [
        {
          "output_type": "display_data",
          "data": {
            "text/plain": [
              "<IPython.core.display.HTML object>"
            ],
            "text/html": [
              "\n",
              "            <style>\n",
              "                .geemap-dark {\n",
              "                    --jp-widgets-color: white;\n",
              "                    --jp-widgets-label-color: white;\n",
              "                    --jp-ui-font-color1: white;\n",
              "                    --jp-layout-color2: #454545;\n",
              "                    background-color: #383838;\n",
              "                }\n",
              "\n",
              "                .geemap-dark .jupyter-button {\n",
              "                    --jp-layout-color3: #383838;\n",
              "                }\n",
              "\n",
              "                .geemap-colab {\n",
              "                    background-color: var(--colab-primary-surface-color, white);\n",
              "                }\n",
              "\n",
              "                .geemap-colab .jupyter-button {\n",
              "                    --jp-layout-color3: var(--colab-primary-surface-color, white);\n",
              "                }\n",
              "            </style>\n",
              "            "
            ]
          },
          "metadata": {}
        },
        {
          "output_type": "display_data",
          "data": {
            "text/plain": [
              "  0%|          | 0/35 [00:00<?, ?it/s]"
            ],
            "application/vnd.jupyter.widget-view+json": {
              "version_major": 2,
              "version_minor": 0,
              "model_id": "49975dda735a41bb956f8f33535ca9db"
            }
          },
          "metadata": {
            "application/vnd.jupyter.widget-view+json": {
              "colab": {
                "custom_widget_manager": {
                  "url": "https://ssl.gstatic.com/colaboratory-static/widgets/colab-cdn-widget-manager/2b70e893a8ba7c0f/manager.min.js"
                }
              }
            }
          }
        },
        {
          "output_type": "stream",
          "name": "stdout",
          "text": [
            "Execution part: 0\n",
            "Execution part: 1\n",
            "Execution part: 2\n",
            "Execution part: 3\n",
            "Execution part: 4\n",
            "Execution part: 5\n",
            "Execution part: 6\n",
            "Execution part: 7\n",
            "Execution part: 8\n",
            "Execution part: 9\n",
            "Execution part: 10\n",
            "Execution part: 11\n",
            "Execution part: 12\n",
            "Execution part: 13\n",
            "Execution part: 14\n",
            "Execution part: 15\n",
            "Execution part: 16\n",
            "Execution part: 17\n",
            "Execution part: 18\n",
            "Execution part: 19\n",
            "Execution part: 20\n",
            "Execution part: 21\n",
            "Execution part: 22\n",
            "Execution part: 23\n",
            "Execution part: 24\n",
            "Execution part: 25\n",
            "Execution part: 26\n",
            "Execution part: 27\n",
            "Execution part: 28\n",
            "Execution part: 29\n",
            "Execution part: 30\n",
            "Execution part: 31\n",
            "Execution part: 32\n",
            "Execution part: 33\n",
            "Execution part: 34\n"
          ]
        }
      ]
    },
    {
      "cell_type": "code",
      "source": [
        "with ee.profilePrinting():\n",
        "   print(ee.Number(3.14).add(0.00159).getInfo())"
      ],
      "metadata": {
        "colab": {
          "base_uri": "https://localhost:8080/",
          "height": 86
        },
        "id": "cDjjQGqKRfNI",
        "outputId": "cb591964-0299-44d2-c0c5-3bd6af134529"
      },
      "execution_count": null,
      "outputs": [
        {
          "output_type": "display_data",
          "data": {
            "text/plain": [
              "<IPython.core.display.HTML object>"
            ],
            "text/html": [
              "\n",
              "            <style>\n",
              "                .geemap-dark {\n",
              "                    --jp-widgets-color: white;\n",
              "                    --jp-widgets-label-color: white;\n",
              "                    --jp-ui-font-color1: white;\n",
              "                    --jp-layout-color2: #454545;\n",
              "                    background-color: #383838;\n",
              "                }\n",
              "\n",
              "                .geemap-dark .jupyter-button {\n",
              "                    --jp-layout-color3: #383838;\n",
              "                }\n",
              "\n",
              "                .geemap-colab {\n",
              "                    background-color: var(--colab-primary-surface-color, white);\n",
              "                }\n",
              "\n",
              "                .geemap-colab .jupyter-button {\n",
              "                    --jp-layout-color3: var(--colab-primary-surface-color, white);\n",
              "                }\n",
              "            </style>\n",
              "            "
            ]
          },
          "metadata": {}
        },
        {
          "output_type": "stream",
          "name": "stdout",
          "text": [
            "3.1415900000000003\n"
          ]
        },
        {
          "output_type": "stream",
          "name": "stderr",
          "text": [
            " EECU·s PeakMem Count  Description\n",
            "  0.001     464     3  (plumbing)\n",
            "   -       3.2k     3  Algorithm Number.add\n"
          ]
        }
      ]
    },
    {
      "cell_type": "code",
      "source": [
        "import ee\n",
        "import geemap\n",
        "Map = geemap.Map()\n",
        "Map.addLayer(ee.Geometry.BBox( -84.0, -30.0, -62.0, 12.0).buffer(1000), {}, \"BBOX\")\n",
        "Map.addLayer(geemap.fishnet(ee.Geometry.BBox( -84.0, -30.0, -62.0, 12.0).buffer(1000), h_interval=4.5, v_interval=6.1, delta=1), {}, \"BBOX_coupe\")#7 rows et 5 colums\n",
        "Map"
      ],
      "metadata": {
        "id": "KaRQIS-4FK5s"
      },
      "execution_count": null,
      "outputs": []
    },
    {
      "cell_type": "markdown",
      "source": [
        "## *⭐Derniere Filtraje*"
      ],
      "metadata": {
        "id": "UpQpdq3lS2Kj"
      }
    },
    {
      "cell_type": "code",
      "source": [
        "# -*- coding: utf-8 -*-\n",
        "\"\"\"\n",
        "Created on Fry Apr 17 15:42:30 2024\n",
        "Version 2.0\n",
        "@author: jvilla\n",
        "\"\"\"\n",
        "\n",
        "from datetime import datetime\n",
        "import pandas as pd\n",
        "import numpy as np\n",
        "from tqdm.notebook import tqdm\n",
        "\n",
        "dir_csv='/content/drive/MyDrive/ content drive MyDrive PFE_CIRAD_AMAP/MODWorldCoverv5.csv'\n",
        "\n",
        "\n",
        "class filtZonesZeches():\n",
        "\tdef __init__(self,dir_csv):\n",
        "\t\tself.dir_csv=dir_csv\n",
        "\n",
        "\tdef filtr_cover(self):#Filtro couverture de sol\n",
        "\t\tdtf=pd.read_csv(self.dir_csv)\n",
        "\t\treturn dtf[dtf['wc'] <= 40]\n",
        "\t\tprint(dtf)\n",
        "\n",
        "\tdef filtr_date(self):\n",
        "\t\tdtf=self.filtr_cover()\n",
        "\t\tdtf['month'] = pd.DatetimeIndex(dtf['acq_date']).month\n",
        "\t\tdtf['year'] = pd.DatetimeIndex(dtf['acq_date']).year\n",
        "\t\treturn dtf\n",
        "\t\tprint(dtf)\n",
        "\n",
        "\tdef re_ord(self):\n",
        "\t\tdtf=self.filtr_date()\n",
        "\t\tnew_dtf=dtf.iloc[:,[1,2,6,8,9,13,12,15,16,10,11]]\n",
        "\t\tnew_dtf.columns=['Zone_Climatique','Date_Acquisition','Pays','Elevation(m)','FRP','WordlCover','Satellite','Mois','Annee','Lat(°)','Long(°)']\n",
        "\t\treturn new_dtf\n",
        "\t\tprint(new_dtf)\n",
        "\n",
        "\tdef nom_soil(self):\n",
        "\t\tdtf=self.re_ord()\n",
        "\t\tdtf['WordlCover']=dtf['WordlCover'].replace([10, 20, 30, 40], [\"Tree cover\", \"Shrubland\", \"Grassland\", \"Cropland\"])\n",
        "\t\treturn dtf\n",
        "\t\tprint(dtf)"
      ],
      "metadata": {
        "colab": {
          "base_uri": "https://localhost:8080/",
          "height": 17
        },
        "id": "ltUFq6YsWC4B",
        "outputId": "d5a2219e-e74c-4f5d-bda4-9344e4ffcac7"
      },
      "execution_count": null,
      "outputs": [
        {
          "output_type": "display_data",
          "data": {
            "text/plain": [
              "<IPython.core.display.HTML object>"
            ],
            "text/html": [
              "\n",
              "            <style>\n",
              "                .geemap-dark {\n",
              "                    --jp-widgets-color: white;\n",
              "                    --jp-widgets-label-color: white;\n",
              "                    --jp-ui-font-color1: white;\n",
              "                    --jp-layout-color2: #454545;\n",
              "                    background-color: #383838;\n",
              "                }\n",
              "\n",
              "                .geemap-dark .jupyter-button {\n",
              "                    --jp-layout-color3: #383838;\n",
              "                }\n",
              "\n",
              "                .geemap-colab {\n",
              "                    background-color: var(--colab-primary-surface-color, white);\n",
              "                }\n",
              "\n",
              "                .geemap-colab .jupyter-button {\n",
              "                    --jp-layout-color3: var(--colab-primary-surface-color, white);\n",
              "                }\n",
              "            </style>\n",
              "            "
            ]
          },
          "metadata": {}
        }
      ]
    },
    {
      "cell_type": "code",
      "source": [
        "MODWorldCover_fil= filtZonesZeches(dir_csv).nom_soil()#.sample(n=5, random_state=5)\n",
        "#MODWorldCover_fil.head()"
      ],
      "metadata": {
        "colab": {
          "base_uri": "https://localhost:8080/",
          "height": 17
        },
        "id": "f7FpcBrH0Aig",
        "outputId": "4878993d-0495-4de3-948e-4bd8082d4904"
      },
      "execution_count": null,
      "outputs": [
        {
          "output_type": "display_data",
          "data": {
            "text/plain": [
              "<IPython.core.display.HTML object>"
            ],
            "text/html": [
              "\n",
              "            <style>\n",
              "                .geemap-dark {\n",
              "                    --jp-widgets-color: white;\n",
              "                    --jp-widgets-label-color: white;\n",
              "                    --jp-ui-font-color1: white;\n",
              "                    --jp-layout-color2: #454545;\n",
              "                    background-color: #383838;\n",
              "                }\n",
              "\n",
              "                .geemap-dark .jupyter-button {\n",
              "                    --jp-layout-color3: #383838;\n",
              "                }\n",
              "\n",
              "                .geemap-colab {\n",
              "                    background-color: var(--colab-primary-surface-color, white);\n",
              "                }\n",
              "\n",
              "                .geemap-colab .jupyter-button {\n",
              "                    --jp-layout-color3: var(--colab-primary-surface-color, white);\n",
              "                }\n",
              "            </style>\n",
              "            "
            ]
          },
          "metadata": {}
        }
      ]
    },
    {
      "cell_type": "code",
      "source": [
        "MODWorldCover_fil.to_csv('/content/drive/MyDrive/PFE_CIRAD_AMAP/1_MCD14ML/Inter_data_ThermalAnomalies/MODWorldCover_fil.csv', index=False)\n",
        "print(\"Processus Nettoyage des données MCD14ML en Pandas terminée\")"
      ],
      "metadata": {
        "colab": {
          "base_uri": "https://localhost:8080/",
          "height": 34
        },
        "id": "TFY1ToAP3h9t",
        "outputId": "68342159-4279-4522-8e44-bc1abb02e8fb"
      },
      "execution_count": null,
      "outputs": [
        {
          "output_type": "display_data",
          "data": {
            "text/plain": [
              "<IPython.core.display.HTML object>"
            ],
            "text/html": [
              "\n",
              "            <style>\n",
              "                .geemap-dark {\n",
              "                    --jp-widgets-color: white;\n",
              "                    --jp-widgets-label-color: white;\n",
              "                    --jp-ui-font-color1: white;\n",
              "                    --jp-layout-color2: #454545;\n",
              "                    background-color: #383838;\n",
              "                }\n",
              "\n",
              "                .geemap-dark .jupyter-button {\n",
              "                    --jp-layout-color3: #383838;\n",
              "                }\n",
              "\n",
              "                .geemap-colab {\n",
              "                    background-color: var(--colab-primary-surface-color, white);\n",
              "                }\n",
              "\n",
              "                .geemap-colab .jupyter-button {\n",
              "                    --jp-layout-color3: var(--colab-primary-surface-color, white);\n",
              "                }\n",
              "            </style>\n",
              "            "
            ]
          },
          "metadata": {}
        },
        {
          "output_type": "stream",
          "name": "stdout",
          "text": [
            "Processus Nettoyage des données MCD14ML en Pandas terminée\n"
          ]
        }
      ]
    },
    {
      "cell_type": "markdown",
      "source": [
        "Processus terminée en pandas, passer au Cluster Spatio-Temporal en Qgis"
      ],
      "metadata": {
        "id": "znq0p9xP2zns"
      }
    },
    {
      "cell_type": "markdown",
      "source": [
        "## **🎯 Graphs Thermal Anomalies General**"
      ],
      "metadata": {
        "id": "Cln8T83Ihb0T"
      }
    },
    {
      "cell_type": "code",
      "source": [
        "# -*- coding: utf-8 -*-\n",
        "\"\"\"\n",
        "Created on Fry Apr 22 10:46:18 2024\n",
        "Version 1.1\n",
        "@author: jvilla\n",
        "\"\"\"\n",
        "\n",
        "import pandas as pd\n",
        "\n",
        "dir_csv='/content/drive/MyDrive/PFE_CIRAD_AMAP/1_MCD14ML/Inter_data_ThermalAnomalies/MODWorldCover_fil_stdscan15j.csv'\n",
        "\n",
        "class filClusters():\n",
        "\tdef __init__(self,dir_csv):\n",
        "\t\tself.dir_csv=dir_csv\n",
        "\n",
        "\tdef filtr_clust(self):\n",
        "\t\tdtf=pd.read_csv(self.dir_csv)\n",
        "\t\tdtf_slice1=dtf[dtf['CLUSTER_ID'].isna()]#Fuegos Independientes\n",
        "\t\tdtf_slice2=dtf[~dtf['CLUSTER_ID'].isna()]#Fuegos Interdependientes\n",
        "\t\tdtf_slice2=dtf_slice2.sort_values(by=['Date_Acquisition'])\n",
        "\t\tdtf_slice2= dtf_slice2.drop_duplicates(subset=[\"CLUSTER_ID\"],keep='first')\n",
        "\t\tdtf=pd.concat([dtf_slice1,dtf_slice2],axis=0,ignore_index=True)\n",
        "\t\tdtf=dtf.iloc[:,[0,1,2,3,4,5,6,7,8,9,10]]\n",
        "\t\treturn dtf\n",
        "\t\tprint(dtf)"
      ],
      "metadata": {
        "colab": {
          "base_uri": "https://localhost:8080/",
          "height": 17
        },
        "id": "9XGijsb3-2UP",
        "outputId": "94529d22-280e-429f-b0eb-5bed33107c12"
      },
      "execution_count": null,
      "outputs": [
        {
          "output_type": "display_data",
          "data": {
            "text/plain": [
              "<IPython.core.display.HTML object>"
            ],
            "text/html": [
              "\n",
              "            <style>\n",
              "                .geemap-dark {\n",
              "                    --jp-widgets-color: white;\n",
              "                    --jp-widgets-label-color: white;\n",
              "                    --jp-ui-font-color1: white;\n",
              "                    --jp-layout-color2: #454545;\n",
              "                    background-color: #383838;\n",
              "                }\n",
              "\n",
              "                .geemap-dark .jupyter-button {\n",
              "                    --jp-layout-color3: #383838;\n",
              "                }\n",
              "\n",
              "                .geemap-colab {\n",
              "                    background-color: var(--colab-primary-surface-color, white);\n",
              "                }\n",
              "\n",
              "                .geemap-colab .jupyter-button {\n",
              "                    --jp-layout-color3: var(--colab-primary-surface-color, white);\n",
              "                }\n",
              "            </style>\n",
              "            "
            ]
          },
          "metadata": {}
        }
      ]
    },
    {
      "cell_type": "code",
      "source": [
        "clus=filClusters(dir_csv).filtr_clust()#.sample(n=5, random_state=5)\n",
        "clus"
      ],
      "metadata": {
        "id": "w-DWQE6O_EK7"
      },
      "execution_count": null,
      "outputs": []
    },
    {
      "cell_type": "markdown",
      "source": [
        "Graphs BY Month end Year after divide Surface of soil"
      ],
      "metadata": {
        "id": "CJowFyfTuA4P"
      }
    },
    {
      "cell_type": "code",
      "source": [
        "import seaborn as sns\n",
        "\n",
        "Thermal_anomalies_Anual=filClusters(dir_csv).filtr_clust()\n",
        "Boxplot_data=Thermal_anomalies_Anual.groupby(['Zone_Climatique','Année','Mois'])['FRP'].count().reset_index()\n",
        "Boxplot_data[\"frec_norm\"] = (Boxplot_data[\"FRP\"] -\n",
        "                           Boxplot_data[\"FRP\"].mean()) / Boxplot_data[\"FRP\"].std()\n",
        "sns.set(rc={\"figure.figsize\":(12, 4)}) #width=8, height=4\n",
        "ax=sns.boxplot(data=Boxplot_data, x=\"Année\", y=\"FRP\", hue=\"Zone_Climatique\", width=.5,fliersize=0.1)#,showfliers=False)#fliersize=0.1)\n",
        "#ax.axvline(4.5, color=\".3\", dashes=(2, 2))\n",
        "#ax.axvline(8.5, color=\".3\", dashes=(2, 2))"
      ],
      "metadata": {
        "colab": {
          "base_uri": "https://localhost:8080/",
          "height": 397
        },
        "id": "26gcv6ruX5iF",
        "outputId": "8d4c0f3a-cda4-46d0-ae8b-840bbe6e5c5b"
      },
      "execution_count": null,
      "outputs": [
        {
          "output_type": "display_data",
          "data": {
            "text/plain": [
              "<IPython.core.display.HTML object>"
            ],
            "text/html": [
              "\n",
              "            <style>\n",
              "                .geemap-dark {\n",
              "                    --jp-widgets-color: white;\n",
              "                    --jp-widgets-label-color: white;\n",
              "                    --jp-ui-font-color1: white;\n",
              "                    --jp-layout-color2: #454545;\n",
              "                    background-color: #383838;\n",
              "                }\n",
              "\n",
              "                .geemap-dark .jupyter-button {\n",
              "                    --jp-layout-color3: #383838;\n",
              "                }\n",
              "\n",
              "                .geemap-colab {\n",
              "                    background-color: var(--colab-primary-surface-color, white);\n",
              "                }\n",
              "\n",
              "                .geemap-colab .jupyter-button {\n",
              "                    --jp-layout-color3: var(--colab-primary-surface-color, white);\n",
              "                }\n",
              "            </style>\n",
              "            "
            ]
          },
          "metadata": {}
        },
        {
          "output_type": "display_data",
          "data": {
            "text/plain": [
              "<Figure size 1200x400 with 1 Axes>"
            ],
            "image/png": "[encoded data removed]"
          },
          "metadata": {}
        }
      ]
    },
    {
      "cell_type": "code",
      "source": [
        "Boxplot_data"
      ],
      "metadata": {
        "id": "zHySqlKEsIRy"
      },
      "execution_count": null,
      "outputs": []
    },
    {
      "cell_type": "code",
      "source": [
        "Boxplot_data=Thermal_anomalies_Anual.groupby(['Zone_Climatique','Année','Mois'])['FRP'].count().reset_index()\n"
      ],
      "metadata": {
        "colab": {
          "base_uri": "https://localhost:8080/",
          "height": 424
        },
        "id": "VUIsgZsKo3Tr",
        "outputId": "42bb8067-a226-4a52-b387-724fea685962"
      },
      "execution_count": null,
      "outputs": [
        {
          "output_type": "display_data",
          "data": {
            "text/plain": [
              "<IPython.core.display.HTML object>"
            ],
            "text/html": [
              "\n",
              "            <style>\n",
              "                .geemap-dark {\n",
              "                    --jp-widgets-color: white;\n",
              "                    --jp-widgets-label-color: white;\n",
              "                    --jp-ui-font-color1: white;\n",
              "                    --jp-layout-color2: #454545;\n",
              "                    background-color: #383838;\n",
              "                }\n",
              "\n",
              "                .geemap-dark .jupyter-button {\n",
              "                    --jp-layout-color3: #383838;\n",
              "                }\n",
              "\n",
              "                .geemap-colab {\n",
              "                    background-color: var(--colab-primary-surface-color, white);\n",
              "                }\n",
              "\n",
              "                .geemap-colab .jupyter-button {\n",
              "                    --jp-layout-color3: var(--colab-primary-surface-color, white);\n",
              "                }\n",
              "            </style>\n",
              "            "
            ]
          },
          "metadata": {}
        },
        {
          "output_type": "execute_result",
          "data": {
            "text/plain": [
              "     Zone_Climatique  Année  Mois  FRP  frec_norm\n",
              "0         South_Zone   2000    11   37   0.321308\n",
              "1         South_Zone   2000    12    5  -0.448036\n",
              "2         South_Zone   2001     6    2  -0.520162\n",
              "3         South_Zone   2001     7   40   0.393434\n",
              "4         South_Zone   2001     8   36   0.297266\n",
              "..               ...    ...   ...  ...        ...\n",
              "552  Zone_Equatorial   2022     8    1  -0.544204\n",
              "553  Zone_Equatorial   2022     9    6  -0.423994\n",
              "554  Zone_Equatorial   2022    10    5  -0.448036\n",
              "555  Zone_Equatorial   2022    11    3  -0.496120\n",
              "556  Zone_Equatorial   2022    12    5  -0.448036\n",
              "\n",
              "[557 rows x 5 columns]"
            ],
            "text/html": [
              "\n",
              "  <div id=\"df-a63ae2d2-b8f9-4338-8290-ca50c455d9b0\" class=\"colab-df-container\">\n",
              "    <div>\n",
              "<style scoped>\n",
              "    .dataframe tbody tr th:only-of-type {\n",
              "        vertical-align: middle;\n",
              "    }\n",
              "\n",
              "    .dataframe tbody tr th {\n",
              "        vertical-align: top;\n",
              "    }\n",
              "\n",
              "    .dataframe thead th {\n",
              "        text-align: right;\n",
              "    }\n",
              "</style>\n",
              "<table border=\"1\" class=\"dataframe\">\n",
              "  <thead>\n",
              "    <tr style=\"text-align: right;\">\n",
              "      <th></th>\n",
              "      <th>Zone_Climatique</th>\n",
              "      <th>Année</th>\n",
              "      <th>Mois</th>\n",
              "      <th>FRP</th>\n",
              "      <th>frec_norm</th>\n",
              "    </tr>\n",
              "  </thead>\n",
              "  <tbody>\n",
              "    <tr>\n",
              "      <th>0</th>\n",
              "      <td>South_Zone</td>\n",
              "      <td>2000</td>\n",
              "      <td>11</td>\n",
              "      <td>37</td>\n",
              "      <td>0.321308</td>\n",
              "    </tr>\n",
              "    <tr>\n",
              "      <th>1</th>\n",
              "      <td>South_Zone</td>\n",
              "      <td>2000</td>\n",
              "      <td>12</td>\n",
              "      <td>5</td>\n",
              "      <td>-0.448036</td>\n",
              "    </tr>\n",
              "    <tr>\n",
              "      <th>2</th>\n",
              "      <td>South_Zone</td>\n",
              "      <td>2001</td>\n",
              "      <td>6</td>\n",
              "      <td>2</td>\n",
              "      <td>-0.520162</td>\n",
              "    </tr>\n",
              "    <tr>\n",
              "      <th>3</th>\n",
              "      <td>South_Zone</td>\n",
              "      <td>2001</td>\n",
              "      <td>7</td>\n",
              "      <td>40</td>\n",
              "      <td>0.393434</td>\n",
              "    </tr>\n",
              "    <tr>\n",
              "      <th>4</th>\n",
              "      <td>South_Zone</td>\n",
              "      <td>2001</td>\n",
              "      <td>8</td>\n",
              "      <td>36</td>\n",
              "      <td>0.297266</td>\n",
              "    </tr>\n",
              "    <tr>\n",
              "      <th>...</th>\n",
              "      <td>...</td>\n",
              "      <td>...</td>\n",
              "      <td>...</td>\n",
              "      <td>...</td>\n",
              "      <td>...</td>\n",
              "    </tr>\n",
              "    <tr>\n",
              "      <th>552</th>\n",
              "      <td>Zone_Equatorial</td>\n",
              "      <td>2022</td>\n",
              "      <td>8</td>\n",
              "      <td>1</td>\n",
              "      <td>-0.544204</td>\n",
              "    </tr>\n",
              "    <tr>\n",
              "      <th>553</th>\n",
              "      <td>Zone_Equatorial</td>\n",
              "      <td>2022</td>\n",
              "      <td>9</td>\n",
              "      <td>6</td>\n",
              "      <td>-0.423994</td>\n",
              "    </tr>\n",
              "    <tr>\n",
              "      <th>554</th>\n",
              "      <td>Zone_Equatorial</td>\n",
              "      <td>2022</td>\n",
              "      <td>10</td>\n",
              "      <td>5</td>\n",
              "      <td>-0.448036</td>\n",
              "    </tr>\n",
              "    <tr>\n",
              "      <th>555</th>\n",
              "      <td>Zone_Equatorial</td>\n",
              "      <td>2022</td>\n",
              "      <td>11</td>\n",
              "      <td>3</td>\n",
              "      <td>-0.496120</td>\n",
              "    </tr>\n",
              "    <tr>\n",
              "      <th>556</th>\n",
              "      <td>Zone_Equatorial</td>\n",
              "      <td>2022</td>\n",
              "      <td>12</td>\n",
              "      <td>5</td>\n",
              "      <td>-0.448036</td>\n",
              "    </tr>\n",
              "  </tbody>\n",
              "</table>\n",
              "<p>557 rows × 5 columns</p>\n",
              "</div>\n",
              "    <div class=\"colab-df-buttons\">\n",
              "\n",
              "  <div class=\"colab-df-container\">\n",
              "    <button class=\"colab-df-convert\" onclick=\"convertToInteractive('df-a63ae2d2-b8f9-4338-8290-ca50c455d9b0')\"\n",
              "            title=\"Convert this dataframe to an interactive table.\"\n",
              "            style=\"display:none;\">\n",
              "\n",
              "  <svg xmlns=\"http://www.w3.org/2000/svg\" height=\"24px\" viewBox=\"0 -960 960 960\">\n",
              "    <path d=\"M120-120v-720h720v720H120Zm60-500h600v-160H180v160Zm220 220h160v-160H400v160Zm0 220h160v-160H400v160ZM180-400h160v-160H180v160Zm440 0h160v-160H620v160ZM180-180h160v-160H180v160Zm440 0h160v-160H620v160Z\"/>\n",
              "  </svg>\n",
              "    </button>\n",
              "\n",
              "  <style>\n",
              "    .colab-df-container {\n",
              "      display:flex;\n",
              "      gap: 12px;\n",
              "    }\n",
              "\n",
              "    .colab-df-convert {\n",
              "      background-color: #E8F0FE;\n",
              "      border: none;\n",
              "      border-radius: 50%;\n",
              "      cursor: pointer;\n",
              "      display: none;\n",
              "      fill: #1967D2;\n",
              "      height: 32px;\n",
              "      padding: 0 0 0 0;\n",
              "      width: 32px;\n",
              "    }\n",
              "\n",
              "    .colab-df-convert:hover {\n",
              "      background-color: #E2EBFA;\n",
              "      box-shadow: 0px 1px 2px rgba(60, 64, 67, 0.3), 0px 1px 3px 1px rgba(60, 64, 67, 0.15);\n",
              "      fill: #174EA6;\n",
              "    }\n",
              "\n",
              "    .colab-df-buttons div {\n",
              "      margin-bottom: 4px;\n",
              "    }\n",
              "\n",
              "    [theme=dark] .colab-df-convert {\n",
              "      background-color: #3B4455;\n",
              "      fill: #D2E3FC;\n",
              "    }\n",
              "\n",
              "    [theme=dark] .colab-df-convert:hover {\n",
              "      background-color: #434B5C;\n",
              "      box-shadow: 0px 1px 3px 1px rgba(0, 0, 0, 0.15);\n",
              "      filter: drop-shadow(0px 1px 2px rgba(0, 0, 0, 0.3));\n",
              "      fill: #FFFFFF;\n",
              "    }\n",
              "  </style>\n",
              "\n",
              "    <script>\n",
              "      const buttonEl =\n",
              "        document.querySelector('#df-a63ae2d2-b8f9-4338-8290-ca50c455d9b0 button.colab-df-convert');\n",
              "      buttonEl.style.display =\n",
              "        google.colab.kernel.accessAllowed ? 'block' : 'none';\n",
              "\n",
              "      async function convertToInteractive(key) {\n",
              "        const element = document.querySelector('#df-a63ae2d2-b8f9-4338-8290-ca50c455d9b0');\n",
              "        const dataTable =\n",
              "          await google.colab.kernel.invokeFunction('convertToInteractive',\n",
              "                                                    [key], {});\n",
              "        if (!dataTable) return;\n",
              "\n",
              "        const docLinkHtml = 'Like what you see? Visit the ' +\n",
              "          '<a target=\"_blank\" href=https://colab.research.google.com/notebooks/data_table.ipynb>data table notebook</a>'\n",
              "          + ' to learn more about interactive tables.';\n",
              "        element.innerHTML = '';\n",
              "        dataTable['output_type'] = 'display_data';\n",
              "        await google.colab.output.renderOutput(dataTable, element);\n",
              "        const docLink = document.createElement('div');\n",
              "        docLink.innerHTML = docLinkHtml;\n",
              "        element.appendChild(docLink);\n",
              "      }\n",
              "    </script>\n",
              "  </div>\n",
              "\n",
              "\n",
              "<div id=\"df-d4ec3760-fd84-4375-b9c3-f6f303118efb\">\n",
              "  <button class=\"colab-df-quickchart\" onclick=\"quickchart('df-d4ec3760-fd84-4375-b9c3-f6f303118efb')\"\n",
              "            title=\"Suggest charts\"\n",
              "            style=\"display:none;\">\n",
              "\n",
              "<svg xmlns=\"http://www.w3.org/2000/svg\" height=\"24px\"viewBox=\"0 0 24 24\"\n",
              "     width=\"24px\">\n",
              "    <g>\n",
              "        <path d=\"M19 3H5c-1.1 0-2 .9-2 2v14c0 1.1.9 2 2 2h14c1.1 0 2-.9 2-2V5c0-1.1-.9-2-2-2zM9 17H7v-7h2v7zm4 0h-2V7h2v10zm4 0h-2v-4h2v4z\"/>\n",
              "    </g>\n",
              "</svg>\n",
              "  </button>\n",
              "\n",
              "<style>\n",
              "  .colab-df-quickchart {\n",
              "      --bg-color: #E8F0FE;\n",
              "      --fill-color: #1967D2;\n",
              "      --hover-bg-color: #E2EBFA;\n",
              "      --hover-fill-color: #174EA6;\n",
              "      --disabled-fill-color: #AAA;\n",
              "      --disabled-bg-color: #DDD;\n",
              "  }\n",
              "\n",
              "  [theme=dark] .colab-df-quickchart {\n",
              "      --bg-color: #3B4455;\n",
              "      --fill-color: #D2E3FC;\n",
              "      --hover-bg-color: #434B5C;\n",
              "      --hover-fill-color: #FFFFFF;\n",
              "      --disabled-bg-color: #3B4455;\n",
              "      --disabled-fill-color: #666;\n",
              "  }\n",
              "\n",
              "  .colab-df-quickchart {\n",
              "    background-color: var(--bg-color);\n",
              "    border: none;\n",
              "    border-radius: 50%;\n",
              "    cursor: pointer;\n",
              "    display: none;\n",
              "    fill: var(--fill-color);\n",
              "    height: 32px;\n",
              "    padding: 0;\n",
              "    width: 32px;\n",
              "  }\n",
              "\n",
              "  .colab-df-quickchart:hover {\n",
              "    background-color: var(--hover-bg-color);\n",
              "    box-shadow: 0 1px 2px rgba(60, 64, 67, 0.3), 0 1px 3px 1px rgba(60, 64, 67, 0.15);\n",
              "    fill: var(--button-hover-fill-color);\n",
              "  }\n",
              "\n",
              "  .colab-df-quickchart-complete:disabled,\n",
              "  .colab-df-quickchart-complete:disabled:hover {\n",
              "    background-color: var(--disabled-bg-color);\n",
              "    fill: var(--disabled-fill-color);\n",
              "    box-shadow: none;\n",
              "  }\n",
              "\n",
              "  .colab-df-spinner {\n",
              "    border: 2px solid var(--fill-color);\n",
              "    border-color: transparent;\n",
              "    border-bottom-color: var(--fill-color);\n",
              "    animation:\n",
              "      spin 1s steps(1) infinite;\n",
              "  }\n",
              "\n",
              "  @keyframes spin {\n",
              "    0% {\n",
              "      border-color: transparent;\n",
              "      border-bottom-color: var(--fill-color);\n",
              "      border-left-color: var(--fill-color);\n",
              "    }\n",
              "    20% {\n",
              "      border-color: transparent;\n",
              "      border-left-color: var(--fill-color);\n",
              "      border-top-color: var(--fill-color);\n",
              "    }\n",
              "    30% {\n",
              "      border-color: transparent;\n",
              "      border-left-color: var(--fill-color);\n",
              "      border-top-color: var(--fill-color);\n",
              "      border-right-color: var(--fill-color);\n",
              "    }\n",
              "    40% {\n",
              "      border-color: transparent;\n",
              "      border-right-color: var(--fill-color);\n",
              "      border-top-color: var(--fill-color);\n",
              "    }\n",
              "    60% {\n",
              "      border-color: transparent;\n",
              "      border-right-color: var(--fill-color);\n",
              "    }\n",
              "    80% {\n",
              "      border-color: transparent;\n",
              "      border-right-color: var(--fill-color);\n",
              "      border-bottom-color: var(--fill-color);\n",
              "    }\n",
              "    90% {\n",
              "      border-color: transparent;\n",
              "      border-bottom-color: var(--fill-color);\n",
              "    }\n",
              "  }\n",
              "</style>\n",
              "\n",
              "  <script>\n",
              "    async function quickchart(key) {\n",
              "      const quickchartButtonEl =\n",
              "        document.querySelector('#' + key + ' button');\n",
              "      quickchartButtonEl.disabled = true;  // To prevent multiple clicks.\n",
              "      quickchartButtonEl.classList.add('colab-df-spinner');\n",
              "      try {\n",
              "        const charts = await google.colab.kernel.invokeFunction(\n",
              "            'suggestCharts', [key], {});\n",
              "      } catch (error) {\n",
              "        console.error('Error during call to suggestCharts:', error);\n",
              "      }\n",
              "      quickchartButtonEl.classList.remove('colab-df-spinner');\n",
              "      quickchartButtonEl.classList.add('colab-df-quickchart-complete');\n",
              "    }\n",
              "    (() => {\n",
              "      let quickchartButtonEl =\n",
              "        document.querySelector('#df-d4ec3760-fd84-4375-b9c3-f6f303118efb button');\n",
              "      quickchartButtonEl.style.display =\n",
              "        google.colab.kernel.accessAllowed ? 'block' : 'none';\n",
              "    })();\n",
              "  </script>\n",
              "</div>\n",
              "    </div>\n",
              "  </div>\n"
            ],
            "application/vnd.google.colaboratory.intrinsic+json": {
              "type": "dataframe",
              "variable_name": "Boxplot_data",
              "summary": "{\n  \"name\": \"Boxplot_data\",\n  \"rows\": 557,\n  \"fields\": [\n    {\n      \"column\": \"Zone_Climatique\",\n      \"properties\": {\n        \"dtype\": \"category\",\n        \"num_unique_values\": 3,\n        \"samples\": [\n          \"South_Zone\",\n          \"Transition_Zone\",\n          \"Zone_Equatorial\"\n        ],\n        \"semantic_type\": \"\",\n        \"description\": \"\"\n      }\n    },\n    {\n      \"column\": \"Ann\\u00e9e\",\n      \"properties\": {\n        \"dtype\": \"number\",\n        \"std\": 6,\n        \"min\": 2000,\n        \"max\": 2022,\n        \"num_unique_values\": 23,\n        \"samples\": [\n          2015,\n          2009,\n          2000\n        ],\n        \"semantic_type\": \"\",\n        \"description\": \"\"\n      }\n    },\n    {\n      \"column\": \"Mois\",\n      \"properties\": {\n        \"dtype\": \"number\",\n        \"std\": 3,\n        \"min\": 1,\n        \"max\": 12,\n        \"num_unique_values\": 12,\n        \"samples\": [\n          4,\n          2,\n          11\n        ],\n        \"semantic_type\": \"\",\n        \"description\": \"\"\n      }\n    },\n    {\n      \"column\": \"FRP\",\n      \"properties\": {\n        \"dtype\": \"number\",\n        \"std\": 41,\n        \"min\": 1,\n        \"max\": 331,\n        \"num_unique_values\": 100,\n        \"samples\": [\n          250,\n          84,\n          127\n        ],\n        \"semantic_type\": \"\",\n        \"description\": \"\"\n      }\n    },\n    {\n      \"column\": \"frec_norm\",\n      \"properties\": {\n        \"dtype\": \"number\",\n        \"std\": 1.0,\n        \"min\": -0.5442041565288016,\n        \"max\": 7.389660533474292,\n        \"num_unique_values\": 100,\n        \"samples\": [\n          5.442257382291715,\n          1.4512830230780374,\n          2.4850896341996527\n        ],\n        \"semantic_type\": \"\",\n        \"description\": \"\"\n      }\n    }\n  ]\n}"
            }
          },
          "metadata": {},
          "execution_count": 194
        }
      ]
    },
    {
      "cell_type": "code",
      "source": [
        "#import seaborn as sns\n",
        "sns.set_theme(style=\"ticks\")\n",
        "\n",
        "#dots = sns.load_dataset(\"dots\")\n",
        "rel_data=Thermal_anomalies_Anual.groupby(['Zone_Climatique','Pays','WordlCover','Année'])['FRP'].count().reset_index()\n",
        "rel_data[\"frec_norm\"] = (rel_data[\"FRP\"] -\n",
        "                           rel_data[\"FRP\"].mean()) / rel_data[\"FRP\"].std()\n",
        "\n",
        "# Define the palette as a list to specify exact values\n",
        "palette = sns.color_palette(\"tab10\")\n",
        "\n",
        "# Plot the lines on two facets\n",
        "sns.relplot(\n",
        "    data=rel_data,\n",
        "    x=\"Année\", y=\"frec_norm\",\n",
        "    #hue=\"coherence\",\n",
        "    #size=\"Pays\",\n",
        "    col=\"Zone_Climatique\",\n",
        "    kind=\"line\",# size_order=[\"T1\", \"T2\"],\n",
        "    palette=palette,\n",
        "    height=5, aspect=.75,\n",
        "    #facet_kws=dict(sharex=False)\n",
        ")"
      ],
      "metadata": {
        "colab": {
          "base_uri": "https://localhost:8080/",
          "height": 517
        },
        "id": "Sgpl_dXoQ-7K",
        "outputId": "ab1916c9-1791-49ab-c1a2-771752d257a9"
      },
      "execution_count": null,
      "outputs": [
        {
          "output_type": "display_data",
          "data": {
            "text/plain": [
              "<IPython.core.display.HTML object>"
            ],
            "text/html": [
              "\n",
              "            <style>\n",
              "                .geemap-dark {\n",
              "                    --jp-widgets-color: white;\n",
              "                    --jp-widgets-label-color: white;\n",
              "                    --jp-ui-font-color1: white;\n",
              "                    --jp-layout-color2: #454545;\n",
              "                    background-color: #383838;\n",
              "                }\n",
              "\n",
              "                .geemap-dark .jupyter-button {\n",
              "                    --jp-layout-color3: #383838;\n",
              "                }\n",
              "\n",
              "                .geemap-colab {\n",
              "                    background-color: var(--colab-primary-surface-color, white);\n",
              "                }\n",
              "\n",
              "                .geemap-colab .jupyter-button {\n",
              "                    --jp-layout-color3: var(--colab-primary-surface-color, white);\n",
              "                }\n",
              "            </style>\n",
              "            "
            ]
          },
          "metadata": {}
        },
        {
          "output_type": "execute_result",
          "data": {
            "text/plain": [
              "<seaborn.axisgrid.FacetGrid at 0x7c420cc3f130>"
            ]
          },
          "metadata": {},
          "execution_count": 180
        },
        {
          "output_type": "display_data",
          "data": {
            "text/plain": [
              "<Figure size 1125x500 with 3 Axes>"
            ],
            "image/png": "[encoded data removed]"
          },
          "metadata": {}
        }
      ]
    },
    {
      "cell_type": "code",
      "source": [
        "rel_data=Thermal_anomalies_Anual.groupby(['Zone_Climatique','Année','Mois'])['FRP'].count().reset_index()\n",
        "South_Zone = rel_data[rel_data[\"Zone_Climatique\"] == 'South_Zone']\n",
        "South_Zone[\"cum_percent\"] = 100 * (South_Zone[\"FRP\"].cumsum()/South_Zone[\"FRP\"].sum())\n",
        "South_Zone"
      ],
      "metadata": {
        "colab": {
          "base_uri": "https://localhost:8080/",
          "height": 424
        },
        "id": "oT0tmIpei4Ja",
        "outputId": "f454032e-1387-479c-cf17-23363c011071"
      },
      "execution_count": null,
      "outputs": [
        {
          "output_type": "display_data",
          "data": {
            "text/plain": [
              "<IPython.core.display.HTML object>"
            ],
            "text/html": [
              "\n",
              "            <style>\n",
              "                .geemap-dark {\n",
              "                    --jp-widgets-color: white;\n",
              "                    --jp-widgets-label-color: white;\n",
              "                    --jp-ui-font-color1: white;\n",
              "                    --jp-layout-color2: #454545;\n",
              "                    background-color: #383838;\n",
              "                }\n",
              "\n",
              "                .geemap-dark .jupyter-button {\n",
              "                    --jp-layout-color3: #383838;\n",
              "                }\n",
              "\n",
              "                .geemap-colab {\n",
              "                    background-color: var(--colab-primary-surface-color, white);\n",
              "                }\n",
              "\n",
              "                .geemap-colab .jupyter-button {\n",
              "                    --jp-layout-color3: var(--colab-primary-surface-color, white);\n",
              "                }\n",
              "            </style>\n",
              "            "
            ]
          },
          "metadata": {}
        },
        {
          "output_type": "execute_result",
          "data": {
            "text/plain": [
              "    Zone_Climatique  Année  Mois  FRP  cum_percent\n",
              "0        South_Zone   2000    11   37     0.427597\n",
              "1        South_Zone   2000    12    5     0.485381\n",
              "2        South_Zone   2001     6    2     0.508494\n",
              "3        South_Zone   2001     7   40     0.970762\n",
              "4        South_Zone   2001     8   36     1.386802\n",
              "..              ...    ...   ...  ...          ...\n",
              "189      South_Zone   2022     8  107    92.638391\n",
              "190      South_Zone   2022     9  135    94.198544\n",
              "191      South_Zone   2022    10  250    97.087715\n",
              "192      South_Zone   2022    11  210    99.514619\n",
              "193      South_Zone   2022    12   42   100.000000\n",
              "\n",
              "[194 rows x 5 columns]"
            ],
            "text/html": [
              "\n",
              "  <div id=\"df-d1d08226-95aa-4ef2-9542-ac00e227b31e\" class=\"colab-df-container\">\n",
              "    <div>\n",
              "<style scoped>\n",
              "    .dataframe tbody tr th:only-of-type {\n",
              "        vertical-align: middle;\n",
              "    }\n",
              "\n",
              "    .dataframe tbody tr th {\n",
              "        vertical-align: top;\n",
              "    }\n",
              "\n",
              "    .dataframe thead th {\n",
              "        text-align: right;\n",
              "    }\n",
              "</style>\n",
              "<table border=\"1\" class=\"dataframe\">\n",
              "  <thead>\n",
              "    <tr style=\"text-align: right;\">\n",
              "      <th></th>\n",
              "      <th>Zone_Climatique</th>\n",
              "      <th>Année</th>\n",
              "      <th>Mois</th>\n",
              "      <th>FRP</th>\n",
              "      <th>cum_percent</th>\n",
              "    </tr>\n",
              "  </thead>\n",
              "  <tbody>\n",
              "    <tr>\n",
              "      <th>0</th>\n",
              "      <td>South_Zone</td>\n",
              "      <td>2000</td>\n",
              "      <td>11</td>\n",
              "      <td>37</td>\n",
              "      <td>0.427597</td>\n",
              "    </tr>\n",
              "    <tr>\n",
              "      <th>1</th>\n",
              "      <td>South_Zone</td>\n",
              "      <td>2000</td>\n",
              "      <td>12</td>\n",
              "      <td>5</td>\n",
              "      <td>0.485381</td>\n",
              "    </tr>\n",
              "    <tr>\n",
              "      <th>2</th>\n",
              "      <td>South_Zone</td>\n",
              "      <td>2001</td>\n",
              "      <td>6</td>\n",
              "      <td>2</td>\n",
              "      <td>0.508494</td>\n",
              "    </tr>\n",
              "    <tr>\n",
              "      <th>3</th>\n",
              "      <td>South_Zone</td>\n",
              "      <td>2001</td>\n",
              "      <td>7</td>\n",
              "      <td>40</td>\n",
              "      <td>0.970762</td>\n",
              "    </tr>\n",
              "    <tr>\n",
              "      <th>4</th>\n",
              "      <td>South_Zone</td>\n",
              "      <td>2001</td>\n",
              "      <td>8</td>\n",
              "      <td>36</td>\n",
              "      <td>1.386802</td>\n",
              "    </tr>\n",
              "    <tr>\n",
              "      <th>...</th>\n",
              "      <td>...</td>\n",
              "      <td>...</td>\n",
              "      <td>...</td>\n",
              "      <td>...</td>\n",
              "      <td>...</td>\n",
              "    </tr>\n",
              "    <tr>\n",
              "      <th>189</th>\n",
              "      <td>South_Zone</td>\n",
              "      <td>2022</td>\n",
              "      <td>8</td>\n",
              "      <td>107</td>\n",
              "      <td>92.638391</td>\n",
              "    </tr>\n",
              "    <tr>\n",
              "      <th>190</th>\n",
              "      <td>South_Zone</td>\n",
              "      <td>2022</td>\n",
              "      <td>9</td>\n",
              "      <td>135</td>\n",
              "      <td>94.198544</td>\n",
              "    </tr>\n",
              "    <tr>\n",
              "      <th>191</th>\n",
              "      <td>South_Zone</td>\n",
              "      <td>2022</td>\n",
              "      <td>10</td>\n",
              "      <td>250</td>\n",
              "      <td>97.087715</td>\n",
              "    </tr>\n",
              "    <tr>\n",
              "      <th>192</th>\n",
              "      <td>South_Zone</td>\n",
              "      <td>2022</td>\n",
              "      <td>11</td>\n",
              "      <td>210</td>\n",
              "      <td>99.514619</td>\n",
              "    </tr>\n",
              "    <tr>\n",
              "      <th>193</th>\n",
              "      <td>South_Zone</td>\n",
              "      <td>2022</td>\n",
              "      <td>12</td>\n",
              "      <td>42</td>\n",
              "      <td>100.000000</td>\n",
              "    </tr>\n",
              "  </tbody>\n",
              "</table>\n",
              "<p>194 rows × 5 columns</p>\n",
              "</div>\n",
              "    <div class=\"colab-df-buttons\">\n",
              "\n",
              "  <div class=\"colab-df-container\">\n",
              "    <button class=\"colab-df-convert\" onclick=\"convertToInteractive('df-d1d08226-95aa-4ef2-9542-ac00e227b31e')\"\n",
              "            title=\"Convert this dataframe to an interactive table.\"\n",
              "            style=\"display:none;\">\n",
              "\n",
              "  <svg xmlns=\"http://www.w3.org/2000/svg\" height=\"24px\" viewBox=\"0 -960 960 960\">\n",
              "    <path d=\"M120-120v-720h720v720H120Zm60-500h600v-160H180v160Zm220 220h160v-160H400v160Zm0 220h160v-160H400v160ZM180-400h160v-160H180v160Zm440 0h160v-160H620v160ZM180-180h160v-160H180v160Zm440 0h160v-160H620v160Z\"/>\n",
              "  </svg>\n",
              "    </button>\n",
              "\n",
              "  <style>\n",
              "    .colab-df-container {\n",
              "      display:flex;\n",
              "      gap: 12px;\n",
              "    }\n",
              "\n",
              "    .colab-df-convert {\n",
              "      background-color: #E8F0FE;\n",
              "      border: none;\n",
              "      border-radius: 50%;\n",
              "      cursor: pointer;\n",
              "      display: none;\n",
              "      fill: #1967D2;\n",
              "      height: 32px;\n",
              "      padding: 0 0 0 0;\n",
              "      width: 32px;\n",
              "    }\n",
              "\n",
              "    .colab-df-convert:hover {\n",
              "      background-color: #E2EBFA;\n",
              "      box-shadow: 0px 1px 2px rgba(60, 64, 67, 0.3), 0px 1px 3px 1px rgba(60, 64, 67, 0.15);\n",
              "      fill: #174EA6;\n",
              "    }\n",
              "\n",
              "    .colab-df-buttons div {\n",
              "      margin-bottom: 4px;\n",
              "    }\n",
              "\n",
              "    [theme=dark] .colab-df-convert {\n",
              "      background-color: #3B4455;\n",
              "      fill: #D2E3FC;\n",
              "    }\n",
              "\n",
              "    [theme=dark] .colab-df-convert:hover {\n",
              "      background-color: #434B5C;\n",
              "      box-shadow: 0px 1px 3px 1px rgba(0, 0, 0, 0.15);\n",
              "      filter: drop-shadow(0px 1px 2px rgba(0, 0, 0, 0.3));\n",
              "      fill: #FFFFFF;\n",
              "    }\n",
              "  </style>\n",
              "\n",
              "    <script>\n",
              "      const buttonEl =\n",
              "        document.querySelector('#df-d1d08226-95aa-4ef2-9542-ac00e227b31e button.colab-df-convert');\n",
              "      buttonEl.style.display =\n",
              "        google.colab.kernel.accessAllowed ? 'block' : 'none';\n",
              "\n",
              "      async function convertToInteractive(key) {\n",
              "        const element = document.querySelector('#df-d1d08226-95aa-4ef2-9542-ac00e227b31e');\n",
              "        const dataTable =\n",
              "          await google.colab.kernel.invokeFunction('convertToInteractive',\n",
              "                                                    [key], {});\n",
              "        if (!dataTable) return;\n",
              "\n",
              "        const docLinkHtml = 'Like what you see? Visit the ' +\n",
              "          '<a target=\"_blank\" href=https://colab.research.google.com/notebooks/data_table.ipynb>data table notebook</a>'\n",
              "          + ' to learn more about interactive tables.';\n",
              "        element.innerHTML = '';\n",
              "        dataTable['output_type'] = 'display_data';\n",
              "        await google.colab.output.renderOutput(dataTable, element);\n",
              "        const docLink = document.createElement('div');\n",
              "        docLink.innerHTML = docLinkHtml;\n",
              "        element.appendChild(docLink);\n",
              "      }\n",
              "    </script>\n",
              "  </div>\n",
              "\n",
              "\n",
              "<div id=\"df-4d4d8819-d5df-4652-aad6-b753fa53fd54\">\n",
              "  <button class=\"colab-df-quickchart\" onclick=\"quickchart('df-4d4d8819-d5df-4652-aad6-b753fa53fd54')\"\n",
              "            title=\"Suggest charts\"\n",
              "            style=\"display:none;\">\n",
              "\n",
              "<svg xmlns=\"http://www.w3.org/2000/svg\" height=\"24px\"viewBox=\"0 0 24 24\"\n",
              "     width=\"24px\">\n",
              "    <g>\n",
              "        <path d=\"M19 3H5c-1.1 0-2 .9-2 2v14c0 1.1.9 2 2 2h14c1.1 0 2-.9 2-2V5c0-1.1-.9-2-2-2zM9 17H7v-7h2v7zm4 0h-2V7h2v10zm4 0h-2v-4h2v4z\"/>\n",
              "    </g>\n",
              "</svg>\n",
              "  </button>\n",
              "\n",
              "<style>\n",
              "  .colab-df-quickchart {\n",
              "      --bg-color: #E8F0FE;\n",
              "      --fill-color: #1967D2;\n",
              "      --hover-bg-color: #E2EBFA;\n",
              "      --hover-fill-color: #174EA6;\n",
              "      --disabled-fill-color: #AAA;\n",
              "      --disabled-bg-color: #DDD;\n",
              "  }\n",
              "\n",
              "  [theme=dark] .colab-df-quickchart {\n",
              "      --bg-color: #3B4455;\n",
              "      --fill-color: #D2E3FC;\n",
              "      --hover-bg-color: #434B5C;\n",
              "      --hover-fill-color: #FFFFFF;\n",
              "      --disabled-bg-color: #3B4455;\n",
              "      --disabled-fill-color: #666;\n",
              "  }\n",
              "\n",
              "  .colab-df-quickchart {\n",
              "    background-color: var(--bg-color);\n",
              "    border: none;\n",
              "    border-radius: 50%;\n",
              "    cursor: pointer;\n",
              "    display: none;\n",
              "    fill: var(--fill-color);\n",
              "    height: 32px;\n",
              "    padding: 0;\n",
              "    width: 32px;\n",
              "  }\n",
              "\n",
              "  .colab-df-quickchart:hover {\n",
              "    background-color: var(--hover-bg-color);\n",
              "    box-shadow: 0 1px 2px rgba(60, 64, 67, 0.3), 0 1px 3px 1px rgba(60, 64, 67, 0.15);\n",
              "    fill: var(--button-hover-fill-color);\n",
              "  }\n",
              "\n",
              "  .colab-df-quickchart-complete:disabled,\n",
              "  .colab-df-quickchart-complete:disabled:hover {\n",
              "    background-color: var(--disabled-bg-color);\n",
              "    fill: var(--disabled-fill-color);\n",
              "    box-shadow: none;\n",
              "  }\n",
              "\n",
              "  .colab-df-spinner {\n",
              "    border: 2px solid var(--fill-color);\n",
              "    border-color: transparent;\n",
              "    border-bottom-color: var(--fill-color);\n",
              "    animation:\n",
              "      spin 1s steps(1) infinite;\n",
              "  }\n",
              "\n",
              "  @keyframes spin {\n",
              "    0% {\n",
              "      border-color: transparent;\n",
              "      border-bottom-color: var(--fill-color);\n",
              "      border-left-color: var(--fill-color);\n",
              "    }\n",
              "    20% {\n",
              "      border-color: transparent;\n",
              "      border-left-color: var(--fill-color);\n",
              "      border-top-color: var(--fill-color);\n",
              "    }\n",
              "    30% {\n",
              "      border-color: transparent;\n",
              "      border-left-color: var(--fill-color);\n",
              "      border-top-color: var(--fill-color);\n",
              "      border-right-color: var(--fill-color);\n",
              "    }\n",
              "    40% {\n",
              "      border-color: transparent;\n",
              "      border-right-color: var(--fill-color);\n",
              "      border-top-color: var(--fill-color);\n",
              "    }\n",
              "    60% {\n",
              "      border-color: transparent;\n",
              "      border-right-color: var(--fill-color);\n",
              "    }\n",
              "    80% {\n",
              "      border-color: transparent;\n",
              "      border-right-color: var(--fill-color);\n",
              "      border-bottom-color: var(--fill-color);\n",
              "    }\n",
              "    90% {\n",
              "      border-color: transparent;\n",
              "      border-bottom-color: var(--fill-color);\n",
              "    }\n",
              "  }\n",
              "</style>\n",
              "\n",
              "  <script>\n",
              "    async function quickchart(key) {\n",
              "      const quickchartButtonEl =\n",
              "        document.querySelector('#' + key + ' button');\n",
              "      quickchartButtonEl.disabled = true;  // To prevent multiple clicks.\n",
              "      quickchartButtonEl.classList.add('colab-df-spinner');\n",
              "      try {\n",
              "        const charts = await google.colab.kernel.invokeFunction(\n",
              "            'suggestCharts', [key], {});\n",
              "      } catch (error) {\n",
              "        console.error('Error during call to suggestCharts:', error);\n",
              "      }\n",
              "      quickchartButtonEl.classList.remove('colab-df-spinner');\n",
              "      quickchartButtonEl.classList.add('colab-df-quickchart-complete');\n",
              "    }\n",
              "    (() => {\n",
              "      let quickchartButtonEl =\n",
              "        document.querySelector('#df-4d4d8819-d5df-4652-aad6-b753fa53fd54 button');\n",
              "      quickchartButtonEl.style.display =\n",
              "        google.colab.kernel.accessAllowed ? 'block' : 'none';\n",
              "    })();\n",
              "  </script>\n",
              "</div>\n",
              "    </div>\n",
              "  </div>\n"
            ],
            "application/vnd.google.colaboratory.intrinsic+json": {
              "type": "dataframe",
              "variable_name": "South_Zone",
              "summary": "{\n  \"name\": \"South_Zone\",\n  \"rows\": 194,\n  \"fields\": [\n    {\n      \"column\": \"Zone_Climatique\",\n      \"properties\": {\n        \"dtype\": \"category\",\n        \"num_unique_values\": 1,\n        \"samples\": [\n          \"South_Zone\"\n        ],\n        \"semantic_type\": \"\",\n        \"description\": \"\"\n      }\n    },\n    {\n      \"column\": \"Ann\\u00e9e\",\n      \"properties\": {\n        \"dtype\": \"number\",\n        \"std\": 6,\n        \"min\": 2000,\n        \"max\": 2022,\n        \"num_unique_values\": 23,\n        \"samples\": [\n          2015\n        ],\n        \"semantic_type\": \"\",\n        \"description\": \"\"\n      }\n    },\n    {\n      \"column\": \"Mois\",\n      \"properties\": {\n        \"dtype\": \"number\",\n        \"std\": 3,\n        \"min\": 1,\n        \"max\": 12,\n        \"num_unique_values\": 12,\n        \"samples\": [\n          4\n        ],\n        \"semantic_type\": \"\",\n        \"description\": \"\"\n      }\n    },\n    {\n      \"column\": \"FRP\",\n      \"properties\": {\n        \"dtype\": \"number\",\n        \"std\": 59,\n        \"min\": 1,\n        \"max\": 331,\n        \"num_unique_values\": 84,\n        \"samples\": [\n          232\n        ],\n        \"semantic_type\": \"\",\n        \"description\": \"\"\n      }\n    },\n    {\n      \"column\": \"cum_percent\",\n      \"properties\": {\n        \"dtype\": \"number\",\n        \"std\": 29.02490206854271,\n        \"min\": 0.4275973650756963,\n        \"max\": 100.0,\n        \"num_unique_values\": 194,\n        \"samples\": [\n          66.33537501444586\n        ],\n        \"semantic_type\": \"\",\n        \"description\": \"\"\n      }\n    }\n  ]\n}"
            }
          },
          "metadata": {},
          "execution_count": 186
        }
      ]
    },
    {
      "cell_type": "code",
      "source": [
        "sns.relplot(data=South_Zone,x=\"Année\", y=\"cum_percent\"\n",
        "#,col=\"Zone_Climatique\",kind='scatter'\n",
        ")"
      ],
      "metadata": {
        "colab": {
          "base_uri": "https://localhost:8080/",
          "height": 518
        },
        "id": "_-0XxNsdkqbF",
        "outputId": "2d21a165-cc0a-48e0-ba08-cd55b8355872"
      },
      "execution_count": null,
      "outputs": [
        {
          "output_type": "display_data",
          "data": {
            "text/plain": [
              "<IPython.core.display.HTML object>"
            ],
            "text/html": [
              "\n",
              "            <style>\n",
              "                .geemap-dark {\n",
              "                    --jp-widgets-color: white;\n",
              "                    --jp-widgets-label-color: white;\n",
              "                    --jp-ui-font-color1: white;\n",
              "                    --jp-layout-color2: #454545;\n",
              "                    background-color: #383838;\n",
              "                }\n",
              "\n",
              "                .geemap-dark .jupyter-button {\n",
              "                    --jp-layout-color3: #383838;\n",
              "                }\n",
              "\n",
              "                .geemap-colab {\n",
              "                    background-color: var(--colab-primary-surface-color, white);\n",
              "                }\n",
              "\n",
              "                .geemap-colab .jupyter-button {\n",
              "                    --jp-layout-color3: var(--colab-primary-surface-color, white);\n",
              "                }\n",
              "            </style>\n",
              "            "
            ]
          },
          "metadata": {}
        },
        {
          "output_type": "execute_result",
          "data": {
            "text/plain": [
              "<seaborn.axisgrid.FacetGrid at 0x7c42080344c0>"
            ]
          },
          "metadata": {},
          "execution_count": 187
        },
        {
          "output_type": "display_data",
          "data": {
            "text/plain": [
              "<Figure size 500x500 with 1 Axes>"
            ],
            "image/png": "[encoded data removed]"
          },
          "metadata": {}
        }
      ]
    },
    {
      "cell_type": "markdown",
      "source": [
        "## **🐘 Soil Surface** #"
      ],
      "metadata": {
        "id": "stIUBWIwb5t0"
      }
    },
    {
      "cell_type": "code",
      "source": [
        "# -*- coding: utf-8 -*-\n",
        "\"\"\"\n",
        "Created on Mon Apr 22 14:14:48 2024\n",
        "Version 1.0\n",
        "@author: jvilla\n",
        "\"\"\"\n",
        "\n",
        "import os\n",
        "from pathlib import Path\n",
        "import glob\n",
        "import pandas as pd\n",
        "from tqdm.notebook import tqdm\n",
        "\n",
        "def merge_csv_SurfaceSoil(dir,pays):\n",
        "  for i in tqdm(range(0,len(pays))):\n",
        "    name=pays[i]\n",
        "    path_fil=os.path.join(dir,f'*{name}*.csv')\n",
        "    list_files = glob.glob(path_fil)\n",
        "    All_csv = pd.concat(map(pd.read_csv, list_files), ignore_index=True)\n",
        "    All_csv = All_csv.groupby(['ADM0_NAME'])['area'].sum().reset_index()\n",
        "    All_csv.to_csv(f'{dir}/{name}_all.csv', index=False, encoding='utf-8-sig')#testee dans le code integree\n",
        "    print(f\"Merge csv Terminée étape {i}/3\")"
      ],
      "metadata": {
        "id": "3BBAs30euJPu"
      },
      "execution_count": null,
      "outputs": []
    },
    {
      "cell_type": "code",
      "source": [
        "dir_1='/content/drive/MyDrive/PFE_CIRAD_AMAP/1_MCD14ML/Inter_data_ThermalAnomalies'\n",
        "pays=[\"TreeCover_Area_part\",\"Shrubland_Area_part\",\"Grassland_Area_part\",\"Cropland_Area_part\"]\n",
        "\n",
        "merge_csv_SurfaceSoil(dir_1,pays)\n",
        "\n",
        "print(\"Processus Surface Soil WordlCover CSV Format Terminée\")"
      ],
      "metadata": {
        "colab": {
          "base_uri": "https://localhost:8080/",
          "height": 136,
          "referenced_widgets": [
            "829ac6eb3db84f2e89115e7886dc9ba6",
            "6df752da90c44a8ab8b0c3f36b7402a1",
            "fcb726b8edff4082a71e9b91347cd4ba",
            "0c84e2d44d634077bcd409c06012d0e8",
            "fa6c05df4c104a138e409c913e879fd0",
            "95a8da646a554ea6b305e99eb858f342",
            "949a8ebd476a4e16aa8bddf5459cf25b",
            "dce150cef1a043f9a0f01e175f6fce0e",
            "31930441fecb424d9b5ff182bed5472a",
            "50ea0736847a44c8a50df298ebc3faed",
            "1bd14841b0dd47d5afa5122dbb9689ab"
          ]
        },
        "id": "KCYuVYQkvEuS",
        "outputId": "80a11b48-4171-4315-f34a-c962850b58cd"
      },
      "execution_count": null,
      "outputs": [
        {
          "output_type": "display_data",
          "data": {
            "text/plain": [
              "  0%|          | 0/4 [00:00<?, ?it/s]"
            ],
            "application/vnd.jupyter.widget-view+json": {
              "version_major": 2,
              "version_minor": 0,
              "model_id": "829ac6eb3db84f2e89115e7886dc9ba6"
            }
          },
          "metadata": {}
        },
        {
          "output_type": "stream",
          "name": "stdout",
          "text": [
            "Merge csv Terminée étape 0/4\n",
            "Merge csv Terminée étape 1/4\n",
            "Merge csv Terminée étape 2/4\n",
            "Merge csv Terminée étape 3/4\n",
            "Processus Surface Soil WordlCover CSV Format Terminée\n"
          ]
        }
      ]
    },
    {
      "cell_type": "code",
      "source": [
        "dtf=pd.read_csv('/content/drive/MyDrive/PFE_CIRAD_AMAP/1_MCD14ML/Inter_data_ThermalAnomalies/Grassland_Area_part_all.csv')\n",
        "Grassland_area=dtf.groupby(['ADM0_NAME'])['area'].sum().reset_index()\n",
        "#Grassland_area.head()\n",
        "Grassland_area.to_csv('/content/drive/MyDrive/PFE_CIRAD_AMAP/1_MCD14ML/Inter_data_ThermalAnomalies/Grassland_Area_part_all2.csv', index=False, encoding='utf-8-sig')"
      ],
      "metadata": {
        "id": "3-G0VHQ6fxeu"
      },
      "execution_count": null,
      "outputs": []
    }
  ]
}